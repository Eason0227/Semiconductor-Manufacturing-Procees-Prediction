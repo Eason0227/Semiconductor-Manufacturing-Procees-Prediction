{
  "cells": [
    {
      "cell_type": "code",
      "execution_count": 17,
      "metadata": {
        "colab": {
          "base_uri": "https://localhost:8080/",
          "height": 834
        },
        "id": "ejrzFBvTopkC",
        "outputId": "628bf052-5a8d-4133-f633-080421f30f87"
      },
      "outputs": [
        {
          "data": {
            "text/html": [
              "<div>\n",
              "<style scoped>\n",
              "    .dataframe tbody tr th:only-of-type {\n",
              "        vertical-align: middle;\n",
              "    }\n",
              "\n",
              "    .dataframe tbody tr th {\n",
              "        vertical-align: top;\n",
              "    }\n",
              "\n",
              "    .dataframe thead th {\n",
              "        text-align: right;\n",
              "    }\n",
              "</style>\n",
              "<table border=\"1\" class=\"dataframe\">\n",
              "  <thead>\n",
              "    <tr style=\"text-align: right;\">\n",
              "      <th></th>\n",
              "      <th>Time</th>\n",
              "      <th>0</th>\n",
              "      <th>1</th>\n",
              "      <th>2</th>\n",
              "      <th>3</th>\n",
              "      <th>4</th>\n",
              "      <th>5</th>\n",
              "      <th>6</th>\n",
              "      <th>7</th>\n",
              "      <th>8</th>\n",
              "      <th>...</th>\n",
              "      <th>581</th>\n",
              "      <th>582</th>\n",
              "      <th>583</th>\n",
              "      <th>584</th>\n",
              "      <th>585</th>\n",
              "      <th>586</th>\n",
              "      <th>587</th>\n",
              "      <th>588</th>\n",
              "      <th>589</th>\n",
              "      <th>Pass/Fail</th>\n",
              "    </tr>\n",
              "  </thead>\n",
              "  <tbody>\n",
              "    <tr>\n",
              "      <th>0</th>\n",
              "      <td>2008-07-19 11:55:00</td>\n",
              "      <td>3030.93</td>\n",
              "      <td>2564.00</td>\n",
              "      <td>2187.7333</td>\n",
              "      <td>1411.1265</td>\n",
              "      <td>1.3602</td>\n",
              "      <td>100.0</td>\n",
              "      <td>97.6133</td>\n",
              "      <td>0.1242</td>\n",
              "      <td>1.5005</td>\n",
              "      <td>...</td>\n",
              "      <td>NaN</td>\n",
              "      <td>0.5005</td>\n",
              "      <td>0.0118</td>\n",
              "      <td>0.0035</td>\n",
              "      <td>2.3630</td>\n",
              "      <td>NaN</td>\n",
              "      <td>NaN</td>\n",
              "      <td>NaN</td>\n",
              "      <td>NaN</td>\n",
              "      <td>-1</td>\n",
              "    </tr>\n",
              "    <tr>\n",
              "      <th>1</th>\n",
              "      <td>2008-07-19 12:32:00</td>\n",
              "      <td>3095.78</td>\n",
              "      <td>2465.14</td>\n",
              "      <td>2230.4222</td>\n",
              "      <td>1463.6606</td>\n",
              "      <td>0.8294</td>\n",
              "      <td>100.0</td>\n",
              "      <td>102.3433</td>\n",
              "      <td>0.1247</td>\n",
              "      <td>1.4966</td>\n",
              "      <td>...</td>\n",
              "      <td>208.2045</td>\n",
              "      <td>0.5019</td>\n",
              "      <td>0.0223</td>\n",
              "      <td>0.0055</td>\n",
              "      <td>4.4447</td>\n",
              "      <td>0.0096</td>\n",
              "      <td>0.0201</td>\n",
              "      <td>0.0060</td>\n",
              "      <td>208.2045</td>\n",
              "      <td>-1</td>\n",
              "    </tr>\n",
              "    <tr>\n",
              "      <th>2</th>\n",
              "      <td>2008-07-19 13:17:00</td>\n",
              "      <td>2932.61</td>\n",
              "      <td>2559.94</td>\n",
              "      <td>2186.4111</td>\n",
              "      <td>1698.0172</td>\n",
              "      <td>1.5102</td>\n",
              "      <td>100.0</td>\n",
              "      <td>95.4878</td>\n",
              "      <td>0.1241</td>\n",
              "      <td>1.4436</td>\n",
              "      <td>...</td>\n",
              "      <td>82.8602</td>\n",
              "      <td>0.4958</td>\n",
              "      <td>0.0157</td>\n",
              "      <td>0.0039</td>\n",
              "      <td>3.1745</td>\n",
              "      <td>0.0584</td>\n",
              "      <td>0.0484</td>\n",
              "      <td>0.0148</td>\n",
              "      <td>82.8602</td>\n",
              "      <td>1</td>\n",
              "    </tr>\n",
              "    <tr>\n",
              "      <th>3</th>\n",
              "      <td>2008-07-19 14:43:00</td>\n",
              "      <td>2988.72</td>\n",
              "      <td>2479.90</td>\n",
              "      <td>2199.0333</td>\n",
              "      <td>909.7926</td>\n",
              "      <td>1.3204</td>\n",
              "      <td>100.0</td>\n",
              "      <td>104.2367</td>\n",
              "      <td>0.1217</td>\n",
              "      <td>1.4882</td>\n",
              "      <td>...</td>\n",
              "      <td>73.8432</td>\n",
              "      <td>0.4990</td>\n",
              "      <td>0.0103</td>\n",
              "      <td>0.0025</td>\n",
              "      <td>2.0544</td>\n",
              "      <td>0.0202</td>\n",
              "      <td>0.0149</td>\n",
              "      <td>0.0044</td>\n",
              "      <td>73.8432</td>\n",
              "      <td>-1</td>\n",
              "    </tr>\n",
              "    <tr>\n",
              "      <th>4</th>\n",
              "      <td>2008-07-19 15:22:00</td>\n",
              "      <td>3032.24</td>\n",
              "      <td>2502.87</td>\n",
              "      <td>2233.3667</td>\n",
              "      <td>1326.5200</td>\n",
              "      <td>1.5334</td>\n",
              "      <td>100.0</td>\n",
              "      <td>100.3967</td>\n",
              "      <td>0.1235</td>\n",
              "      <td>1.5031</td>\n",
              "      <td>...</td>\n",
              "      <td>NaN</td>\n",
              "      <td>0.4800</td>\n",
              "      <td>0.4766</td>\n",
              "      <td>0.1045</td>\n",
              "      <td>99.3032</td>\n",
              "      <td>0.0202</td>\n",
              "      <td>0.0149</td>\n",
              "      <td>0.0044</td>\n",
              "      <td>73.8432</td>\n",
              "      <td>-1</td>\n",
              "    </tr>\n",
              "    <tr>\n",
              "      <th>...</th>\n",
              "      <td>...</td>\n",
              "      <td>...</td>\n",
              "      <td>...</td>\n",
              "      <td>...</td>\n",
              "      <td>...</td>\n",
              "      <td>...</td>\n",
              "      <td>...</td>\n",
              "      <td>...</td>\n",
              "      <td>...</td>\n",
              "      <td>...</td>\n",
              "      <td>...</td>\n",
              "      <td>...</td>\n",
              "      <td>...</td>\n",
              "      <td>...</td>\n",
              "      <td>...</td>\n",
              "      <td>...</td>\n",
              "      <td>...</td>\n",
              "      <td>...</td>\n",
              "      <td>...</td>\n",
              "      <td>...</td>\n",
              "      <td>...</td>\n",
              "    </tr>\n",
              "    <tr>\n",
              "      <th>1562</th>\n",
              "      <td>2008-10-16 15:13:00</td>\n",
              "      <td>2899.41</td>\n",
              "      <td>2464.36</td>\n",
              "      <td>2179.7333</td>\n",
              "      <td>3085.3781</td>\n",
              "      <td>1.4843</td>\n",
              "      <td>100.0</td>\n",
              "      <td>82.2467</td>\n",
              "      <td>0.1248</td>\n",
              "      <td>1.3424</td>\n",
              "      <td>...</td>\n",
              "      <td>203.1720</td>\n",
              "      <td>0.4988</td>\n",
              "      <td>0.0143</td>\n",
              "      <td>0.0039</td>\n",
              "      <td>2.8669</td>\n",
              "      <td>0.0068</td>\n",
              "      <td>0.0138</td>\n",
              "      <td>0.0047</td>\n",
              "      <td>203.1720</td>\n",
              "      <td>-1</td>\n",
              "    </tr>\n",
              "    <tr>\n",
              "      <th>1563</th>\n",
              "      <td>2008-10-16 20:49:00</td>\n",
              "      <td>3052.31</td>\n",
              "      <td>2522.55</td>\n",
              "      <td>2198.5667</td>\n",
              "      <td>1124.6595</td>\n",
              "      <td>0.8763</td>\n",
              "      <td>100.0</td>\n",
              "      <td>98.4689</td>\n",
              "      <td>0.1205</td>\n",
              "      <td>1.4333</td>\n",
              "      <td>...</td>\n",
              "      <td>NaN</td>\n",
              "      <td>0.4975</td>\n",
              "      <td>0.0131</td>\n",
              "      <td>0.0036</td>\n",
              "      <td>2.6238</td>\n",
              "      <td>0.0068</td>\n",
              "      <td>0.0138</td>\n",
              "      <td>0.0047</td>\n",
              "      <td>203.1720</td>\n",
              "      <td>-1</td>\n",
              "    </tr>\n",
              "    <tr>\n",
              "      <th>1564</th>\n",
              "      <td>2008-10-17 05:26:00</td>\n",
              "      <td>2978.81</td>\n",
              "      <td>2379.78</td>\n",
              "      <td>2206.3000</td>\n",
              "      <td>1110.4967</td>\n",
              "      <td>0.8236</td>\n",
              "      <td>100.0</td>\n",
              "      <td>99.4122</td>\n",
              "      <td>0.1208</td>\n",
              "      <td>NaN</td>\n",
              "      <td>...</td>\n",
              "      <td>43.5231</td>\n",
              "      <td>0.4987</td>\n",
              "      <td>0.0153</td>\n",
              "      <td>0.0041</td>\n",
              "      <td>3.0590</td>\n",
              "      <td>0.0197</td>\n",
              "      <td>0.0086</td>\n",
              "      <td>0.0025</td>\n",
              "      <td>43.5231</td>\n",
              "      <td>-1</td>\n",
              "    </tr>\n",
              "    <tr>\n",
              "      <th>1565</th>\n",
              "      <td>2008-10-17 06:01:00</td>\n",
              "      <td>2894.92</td>\n",
              "      <td>2532.01</td>\n",
              "      <td>2177.0333</td>\n",
              "      <td>1183.7287</td>\n",
              "      <td>1.5726</td>\n",
              "      <td>100.0</td>\n",
              "      <td>98.7978</td>\n",
              "      <td>0.1213</td>\n",
              "      <td>1.4622</td>\n",
              "      <td>...</td>\n",
              "      <td>93.4941</td>\n",
              "      <td>0.5004</td>\n",
              "      <td>0.0178</td>\n",
              "      <td>0.0038</td>\n",
              "      <td>3.5662</td>\n",
              "      <td>0.0262</td>\n",
              "      <td>0.0245</td>\n",
              "      <td>0.0075</td>\n",
              "      <td>93.4941</td>\n",
              "      <td>-1</td>\n",
              "    </tr>\n",
              "    <tr>\n",
              "      <th>1566</th>\n",
              "      <td>2008-10-17 06:07:00</td>\n",
              "      <td>2944.92</td>\n",
              "      <td>2450.76</td>\n",
              "      <td>2195.4444</td>\n",
              "      <td>2914.1792</td>\n",
              "      <td>1.5978</td>\n",
              "      <td>100.0</td>\n",
              "      <td>85.1011</td>\n",
              "      <td>0.1235</td>\n",
              "      <td>NaN</td>\n",
              "      <td>...</td>\n",
              "      <td>137.7844</td>\n",
              "      <td>0.4987</td>\n",
              "      <td>0.0181</td>\n",
              "      <td>0.0040</td>\n",
              "      <td>3.6275</td>\n",
              "      <td>0.0117</td>\n",
              "      <td>0.0162</td>\n",
              "      <td>0.0045</td>\n",
              "      <td>137.7844</td>\n",
              "      <td>-1</td>\n",
              "    </tr>\n",
              "  </tbody>\n",
              "</table>\n",
              "<p>1567 rows × 592 columns</p>\n",
              "</div>"
            ],
            "text/plain": [
              "                     Time        0        1          2          3       4  \\\n",
              "0     2008-07-19 11:55:00  3030.93  2564.00  2187.7333  1411.1265  1.3602   \n",
              "1     2008-07-19 12:32:00  3095.78  2465.14  2230.4222  1463.6606  0.8294   \n",
              "2     2008-07-19 13:17:00  2932.61  2559.94  2186.4111  1698.0172  1.5102   \n",
              "3     2008-07-19 14:43:00  2988.72  2479.90  2199.0333   909.7926  1.3204   \n",
              "4     2008-07-19 15:22:00  3032.24  2502.87  2233.3667  1326.5200  1.5334   \n",
              "...                   ...      ...      ...        ...        ...     ...   \n",
              "1562  2008-10-16 15:13:00  2899.41  2464.36  2179.7333  3085.3781  1.4843   \n",
              "1563  2008-10-16 20:49:00  3052.31  2522.55  2198.5667  1124.6595  0.8763   \n",
              "1564  2008-10-17 05:26:00  2978.81  2379.78  2206.3000  1110.4967  0.8236   \n",
              "1565  2008-10-17 06:01:00  2894.92  2532.01  2177.0333  1183.7287  1.5726   \n",
              "1566  2008-10-17 06:07:00  2944.92  2450.76  2195.4444  2914.1792  1.5978   \n",
              "\n",
              "          5         6       7       8  ...       581     582     583     584  \\\n",
              "0     100.0   97.6133  0.1242  1.5005  ...       NaN  0.5005  0.0118  0.0035   \n",
              "1     100.0  102.3433  0.1247  1.4966  ...  208.2045  0.5019  0.0223  0.0055   \n",
              "2     100.0   95.4878  0.1241  1.4436  ...   82.8602  0.4958  0.0157  0.0039   \n",
              "3     100.0  104.2367  0.1217  1.4882  ...   73.8432  0.4990  0.0103  0.0025   \n",
              "4     100.0  100.3967  0.1235  1.5031  ...       NaN  0.4800  0.4766  0.1045   \n",
              "...     ...       ...     ...     ...  ...       ...     ...     ...     ...   \n",
              "1562  100.0   82.2467  0.1248  1.3424  ...  203.1720  0.4988  0.0143  0.0039   \n",
              "1563  100.0   98.4689  0.1205  1.4333  ...       NaN  0.4975  0.0131  0.0036   \n",
              "1564  100.0   99.4122  0.1208     NaN  ...   43.5231  0.4987  0.0153  0.0041   \n",
              "1565  100.0   98.7978  0.1213  1.4622  ...   93.4941  0.5004  0.0178  0.0038   \n",
              "1566  100.0   85.1011  0.1235     NaN  ...  137.7844  0.4987  0.0181  0.0040   \n",
              "\n",
              "          585     586     587     588       589  Pass/Fail  \n",
              "0      2.3630     NaN     NaN     NaN       NaN         -1  \n",
              "1      4.4447  0.0096  0.0201  0.0060  208.2045         -1  \n",
              "2      3.1745  0.0584  0.0484  0.0148   82.8602          1  \n",
              "3      2.0544  0.0202  0.0149  0.0044   73.8432         -1  \n",
              "4     99.3032  0.0202  0.0149  0.0044   73.8432         -1  \n",
              "...       ...     ...     ...     ...       ...        ...  \n",
              "1562   2.8669  0.0068  0.0138  0.0047  203.1720         -1  \n",
              "1563   2.6238  0.0068  0.0138  0.0047  203.1720         -1  \n",
              "1564   3.0590  0.0197  0.0086  0.0025   43.5231         -1  \n",
              "1565   3.5662  0.0262  0.0245  0.0075   93.4941         -1  \n",
              "1566   3.6275  0.0117  0.0162  0.0045  137.7844         -1  \n",
              "\n",
              "[1567 rows x 592 columns]"
            ]
          },
          "execution_count": 17,
          "metadata": {},
          "output_type": "execute_result"
        }
      ],
      "source": [
        "from pandas import set_option\n",
        "import pandas as pd\n",
        "import numpy as np\n",
        "import matplotlib.pyplot as plt\n",
        "import seaborn as sns\n",
        "import warnings\n",
        "import optuna\n",
        "warnings.filterwarnings(\"ignore\")\n",
        "\n",
        "from imblearn.over_sampling import SMOTE,BorderlineSMOTE\n",
        "from sklearn.impute import KNNImputer,SimpleImputer\n",
        "from sklearn.preprocessing import LabelEncoder,MinMaxScaler,StandardScaler\n",
        "from sklearn.model_selection import train_test_split,KFold, StratifiedKFold, cross_val_score\n",
        "from sklearn.metrics import confusion_matrix,auc,roc_curve,classification_report,accuracy_score,make_scorer,recall_score\n",
        "\n",
        "from statsmodels.stats.outliers_influence import variance_inflation_factor as VIF\n",
        "from sklearn.model_selection import GridSearchCV,RandomizedSearchCV\n",
        "from sklearn.feature_selection import VarianceThreshold, SelectFromModel\n",
        "\n",
        "from imblearn.ensemble import BalancedRandomForestClassifier\n",
        "from sklearn.ensemble import RandomForestClassifier,ExtraTreesClassifier,GradientBoostingClassifier,VotingClassifier,HistGradientBoostingClassifier\n",
        "from sklearn.neighbors import KNeighborsClassifier\n",
        "from sklearn.svm import SVC\n",
        "from sklearn.linear_model import LogisticRegression\n",
        "from sklearn.neural_network import MLPClassifier\n",
        "from xgboost import XGBClassifier\n",
        "from lightgbm import LGBMClassifier\n",
        "from catboost import CatBoostClassifier\n",
        "\n",
        "df = pd.read_csv('uci-secom.csv')\n",
        "df"
      ]
    },
    {
      "cell_type": "code",
      "execution_count": 22,
      "metadata": {
        "id": "Rmvk6pmzopkF"
      },
      "outputs": [],
      "source": [
        "df = df.drop(['Time'],axis=1)"
      ]
    },
    {
      "cell_type": "markdown",
      "metadata": {
        "id": "OoybeasaopkH"
      },
      "source": [
        "## Remove the feature with more than 90% of null values"
      ]
    },
    {
      "cell_type": "code",
      "execution_count": 23,
      "metadata": {
        "colab": {
          "base_uri": "https://localhost:8080/"
        },
        "id": "a6BBm4JropkH",
        "outputId": "944c46b4-332d-4af8-a77a-f0f0d02a4d40"
      },
      "outputs": [
        {
          "name": "stdout",
          "output_type": "stream",
          "text": [
            "(1567, 587)\n"
          ]
        }
      ],
      "source": [
        "missing= df.isnull().sum().reset_index().rename(columns={0:'missNum'})\n",
        "missing['missRate']=missing['missNum']/df.shape[0]\n",
        "empty = missing[missing['missRate']>0.9]['index'].values\n",
        "df = df.drop(empty,axis=1)\n",
        "print(df.shape)"
      ]
    },
    {
      "cell_type": "markdown",
      "metadata": {
        "id": "AeYUdSDRopkI"
      },
      "source": [
        "## Imputation"
      ]
    },
    {
      "cell_type": "code",
      "execution_count": 24,
      "metadata": {
        "id": "G5DUrYwEopkI"
      },
      "outputs": [],
      "source": [
        "knn =  KNNImputer(n_neighbors=3)\n",
        "impute = knn.fit_transform(df)\n",
        "df_impute = pd.DataFrame(impute, columns = df.columns)"
      ]
    },
    {
      "cell_type": "code",
      "execution_count": 25,
      "metadata": {
        "id": "ryUUuNLAopkJ"
      },
      "outputs": [],
      "source": [
        "df_impute['Pass/Fail'] = df_impute['Pass/Fail'].replace({1:'1'})\n",
        "df_impute['Pass/Fail'] = df_impute['Pass/Fail'].replace({-1:'0'})\n",
        "df_impute['Pass/Fail'] = df_impute['Pass/Fail'].astype(int)\n",
        "\n",
        "df_feature = df_impute.drop(['Pass/Fail'],axis = 1)\n",
        "df_label = df_impute['Pass/Fail']"
      ]
    },
    {
      "cell_type": "code",
      "execution_count": 26,
      "metadata": {
        "colab": {
          "base_uri": "https://localhost:8080/"
        },
        "id": "85qkW-4f-0_J",
        "outputId": "20df2ee5-7ef6-43ee-f5e6-f82ccac87131"
      },
      "outputs": [
        {
          "name": "stdout",
          "output_type": "stream",
          "text": [
            "0    1463\n",
            "1     104\n",
            "Name: Pass/Fail, dtype: int64\n"
          ]
        }
      ],
      "source": [
        "print(df_label.value_counts())"
      ]
    },
    {
      "cell_type": "markdown",
      "metadata": {
        "id": "CgzU60GfopkK"
      },
      "source": [
        "## Addressing Outliers\n",
        "Outliers are identified and replaced by median value of the corresponding feature."
      ]
    },
    {
      "cell_type": "code",
      "execution_count": 27,
      "metadata": {
        "id": "__GbqVPlopkK"
      },
      "outputs": [],
      "source": [
        "def outliers(df):\n",
        "    features = df.columns\n",
        "    for j in features:\n",
        "        Q1 = df[j].quantile(q=0.25)\n",
        "        Q2 = df[j].median()\n",
        "        Q3 = df[j].quantile(q=0.75)\n",
        "        IQR = Q3 - Q1\n",
        "        upper_bound = Q3 + 1.5*IQR\n",
        "        lower_bound = Q1 - 1.5*IQR\n",
        "        for i in range(0,df.shape[0]):\n",
        "            if(df[j][i] > upper_bound or df[j][i]<lower_bound):\n",
        "                df[j][i] = df[j].median()\n",
        "    return df\n",
        "\n",
        "df_feature = outliers(df_feature)"
      ]
    },
    {
      "cell_type": "markdown",
      "metadata": {
        "id": "PSRt5uPlopkK"
      },
      "source": [
        "## Check Multi-collinearity problem"
      ]
    },
    {
      "cell_type": "markdown",
      "metadata": {
        "id": "SvDaT18DopkK"
      },
      "source": [
        "Checking for **correlated independent** features using correlation matrix. The threshold is selected as 0.80. If two features are correlated by coefficient>0.8, one of the correlated feature is removed.  "
      ]
    },
    {
      "cell_type": "code",
      "execution_count": 28,
      "metadata": {
        "colab": {
          "base_uri": "https://localhost:8080/",
          "height": 441
        },
        "id": "XgpcvXZKopkK",
        "outputId": "73017894-6297-4cb1-8f92-beb8f60a92b4"
      },
      "outputs": [
        {
          "data": {
            "text/html": [
              "<div>\n",
              "<style scoped>\n",
              "    .dataframe tbody tr th:only-of-type {\n",
              "        vertical-align: middle;\n",
              "    }\n",
              "\n",
              "    .dataframe tbody tr th {\n",
              "        vertical-align: top;\n",
              "    }\n",
              "\n",
              "    .dataframe thead th {\n",
              "        text-align: right;\n",
              "    }\n",
              "</style>\n",
              "<table border=\"1\" class=\"dataframe\">\n",
              "  <thead>\n",
              "    <tr style=\"text-align: right;\">\n",
              "      <th></th>\n",
              "      <th>feature1</th>\n",
              "      <th>feature2</th>\n",
              "      <th>correlation</th>\n",
              "    </tr>\n",
              "  </thead>\n",
              "  <tbody>\n",
              "    <tr>\n",
              "      <th>0</th>\n",
              "      <td>11</td>\n",
              "      <td>147</td>\n",
              "      <td>0.902877</td>\n",
              "    </tr>\n",
              "    <tr>\n",
              "      <th>1</th>\n",
              "      <td>12</td>\n",
              "      <td>282</td>\n",
              "      <td>0.904849</td>\n",
              "    </tr>\n",
              "    <tr>\n",
              "      <th>2</th>\n",
              "      <td>17</td>\n",
              "      <td>420</td>\n",
              "      <td>0.906577</td>\n",
              "    </tr>\n",
              "    <tr>\n",
              "      <th>3</th>\n",
              "      <td>18</td>\n",
              "      <td>18</td>\n",
              "      <td>0.980611</td>\n",
              "    </tr>\n",
              "    <tr>\n",
              "      <th>4</th>\n",
              "      <td>21</td>\n",
              "      <td>153</td>\n",
              "      <td>0.891689</td>\n",
              "    </tr>\n",
              "    <tr>\n",
              "      <th>...</th>\n",
              "      <td>...</td>\n",
              "      <td>...</td>\n",
              "      <td>...</td>\n",
              "    </tr>\n",
              "    <tr>\n",
              "      <th>323</th>\n",
              "      <td>583</td>\n",
              "      <td>584</td>\n",
              "      <td>0.831048</td>\n",
              "    </tr>\n",
              "    <tr>\n",
              "      <th>324</th>\n",
              "      <td>584</td>\n",
              "      <td>585</td>\n",
              "      <td>0.996439</td>\n",
              "    </tr>\n",
              "    <tr>\n",
              "      <th>325</th>\n",
              "      <td>585</td>\n",
              "      <td>583</td>\n",
              "      <td>0.831048</td>\n",
              "    </tr>\n",
              "    <tr>\n",
              "      <th>326</th>\n",
              "      <td>587</td>\n",
              "      <td>588</td>\n",
              "      <td>0.851673</td>\n",
              "    </tr>\n",
              "    <tr>\n",
              "      <th>327</th>\n",
              "      <td>588</td>\n",
              "      <td>587</td>\n",
              "      <td>0.851673</td>\n",
              "    </tr>\n",
              "  </tbody>\n",
              "</table>\n",
              "<p>328 rows × 3 columns</p>\n",
              "</div>"
            ],
            "text/plain": [
              "    feature1 feature2 correlation\n",
              "0         11      147    0.902877\n",
              "1         12      282    0.904849\n",
              "2         17      420    0.906577\n",
              "3         18       18    0.980611\n",
              "4         21      153    0.891689\n",
              "..       ...      ...         ...\n",
              "323      583      584    0.831048\n",
              "324      584      585    0.996439\n",
              "325      585      583    0.831048\n",
              "326      587      588    0.851673\n",
              "327      588      587    0.851673\n",
              "\n",
              "[328 rows x 3 columns]"
            ]
          },
          "metadata": {},
          "output_type": "display_data"
        },
        {
          "name": "stdout",
          "output_type": "stream",
          "text": [
            "Number of features removed =  328\n"
          ]
        }
      ],
      "source": [
        "def remove_corr(df, threshold):\n",
        "    corr = pd.DataFrame(abs(df.corr()))\n",
        "\n",
        "    Featurei = []\n",
        "    Featurej = []\n",
        "    Corr = []\n",
        "\n",
        "    for i in corr.index:\n",
        "        for j in corr.columns:\n",
        "            if (corr.loc[i, j] > threshold and i != j):\n",
        "                if(i not in Featurei):\n",
        "                    Featurei.append(i)\n",
        "                if(j not in Featurej):\n",
        "                    Featurej.append(j)\n",
        "                    Corr.append(corr.loc[i, j])\n",
        "\n",
        "    d = pd.DataFrame([Featurei, Featurej, Corr]).transpose()\n",
        "    d.columns = ['feature1','feature2','correlation']\n",
        "    display(d)\n",
        "    to_drop = set(d['feature1'])\n",
        "    print('Number of features removed = ', len(to_drop))\n",
        "\n",
        "    return (df.drop(to_drop, axis=1))\n",
        "df_feature = remove_corr(df_feature, 0.80)"
      ]
    },
    {
      "cell_type": "markdown",
      "metadata": {
        "id": "GlLLaobqopkL"
      },
      "source": [
        "Checking for **Variance Inflation Factor (VIF)** of each independent feature. Features with VIF>5 are removed.  \n",
        "\n",
        "The **Variance Inflation Factor (VIF)** is a numerical value that represents the degree of collinearity between observations of an independent variable.  \n",
        "A VIF greater than 5 is considered multicollinearity."
      ]
    },
    {
      "cell_type": "code",
      "execution_count": 29,
      "metadata": {
        "colab": {
          "base_uri": "https://localhost:8080/",
          "height": 441
        },
        "id": "JJUIrXebopkL",
        "outputId": "0f4f680a-f508-4d7c-ca2e-1e4f69c6137b"
      },
      "outputs": [
        {
          "data": {
            "text/html": [
              "<div>\n",
              "<style scoped>\n",
              "    .dataframe tbody tr th:only-of-type {\n",
              "        vertical-align: middle;\n",
              "    }\n",
              "\n",
              "    .dataframe tbody tr th {\n",
              "        vertical-align: top;\n",
              "    }\n",
              "\n",
              "    .dataframe thead th {\n",
              "        text-align: right;\n",
              "    }\n",
              "</style>\n",
              "<table border=\"1\" class=\"dataframe\">\n",
              "  <thead>\n",
              "    <tr style=\"text-align: right;\">\n",
              "      <th></th>\n",
              "      <th>features</th>\n",
              "      <th>VIF</th>\n",
              "    </tr>\n",
              "  </thead>\n",
              "  <tbody>\n",
              "    <tr>\n",
              "      <th>0</th>\n",
              "      <td>0</td>\n",
              "      <td>1.153540</td>\n",
              "    </tr>\n",
              "    <tr>\n",
              "      <th>1</th>\n",
              "      <td>1</td>\n",
              "      <td>1.134100</td>\n",
              "    </tr>\n",
              "    <tr>\n",
              "      <th>2</th>\n",
              "      <td>2</td>\n",
              "      <td>2.202149</td>\n",
              "    </tr>\n",
              "    <tr>\n",
              "      <th>3</th>\n",
              "      <td>3</td>\n",
              "      <td>2.544339</td>\n",
              "    </tr>\n",
              "    <tr>\n",
              "      <th>4</th>\n",
              "      <td>4</td>\n",
              "      <td>1.324274</td>\n",
              "    </tr>\n",
              "    <tr>\n",
              "      <th>...</th>\n",
              "      <td>...</td>\n",
              "      <td>...</td>\n",
              "    </tr>\n",
              "    <tr>\n",
              "      <th>253</th>\n",
              "      <td>578</td>\n",
              "      <td>1.537939</td>\n",
              "    </tr>\n",
              "    <tr>\n",
              "      <th>254</th>\n",
              "      <td>581</td>\n",
              "      <td>1.469631</td>\n",
              "    </tr>\n",
              "    <tr>\n",
              "      <th>255</th>\n",
              "      <td>582</td>\n",
              "      <td>1.220128</td>\n",
              "    </tr>\n",
              "    <tr>\n",
              "      <th>256</th>\n",
              "      <td>586</td>\n",
              "      <td>1.454787</td>\n",
              "    </tr>\n",
              "    <tr>\n",
              "      <th>257</th>\n",
              "      <td>589</td>\n",
              "      <td>1.455378</td>\n",
              "    </tr>\n",
              "  </tbody>\n",
              "</table>\n",
              "<p>258 rows × 2 columns</p>\n",
              "</div>"
            ],
            "text/plain": [
              "    features       VIF\n",
              "0          0  1.153540\n",
              "1          1  1.134100\n",
              "2          2  2.202149\n",
              "3          3  2.544339\n",
              "4          4  1.324274\n",
              "..       ...       ...\n",
              "253      578  1.537939\n",
              "254      581  1.469631\n",
              "255      582  1.220128\n",
              "256      586  1.454787\n",
              "257      589  1.455378\n",
              "\n",
              "[258 rows x 2 columns]"
            ]
          },
          "metadata": {},
          "output_type": "display_data"
        },
        {
          "name": "stdout",
          "output_type": "stream",
          "text": [
            "Number of features with VIF >  5 =  3\n"
          ]
        }
      ],
      "source": [
        "def remove_high_VIF(df, limit):\n",
        "    vif = pd.DataFrame()\n",
        "    high_vif = []\n",
        "    vif['features'] = df.columns\n",
        "    vif['VIF'] = [VIF(df.values,i) for i in range(len(df.columns))]\n",
        "    display(vif)\n",
        "    high_vif= vif[vif['VIF']>limit].features\n",
        "    print('Number of features with VIF > ',limit,'= ',len(high_vif))\n",
        "    return(df.drop(high_vif,axis=1))\n",
        "\n",
        "df_feature = remove_high_VIF(df_feature,5)"
      ]
    },
    {
      "cell_type": "markdown",
      "metadata": {
        "id": "p0esG2TVopkL"
      },
      "source": [
        "Features with very low variance will not have predicitve power. Thus, features with very low variance are detected and dropped.  \n",
        "Variance Threshold is calculated as (0.8*(1-0.8))"
      ]
    },
    {
      "cell_type": "code",
      "execution_count": 30,
      "metadata": {
        "colab": {
          "base_uri": "https://localhost:8080/",
          "height": 441
        },
        "id": "oXeot7XfopkL",
        "outputId": "8a78239d-42cb-4a94-a7c0-01bf702272e5"
      },
      "outputs": [
        {
          "data": {
            "text/html": [
              "<div>\n",
              "<style scoped>\n",
              "    .dataframe tbody tr th:only-of-type {\n",
              "        vertical-align: middle;\n",
              "    }\n",
              "\n",
              "    .dataframe tbody tr th {\n",
              "        vertical-align: top;\n",
              "    }\n",
              "\n",
              "    .dataframe thead th {\n",
              "        text-align: right;\n",
              "    }\n",
              "</style>\n",
              "<table border=\"1\" class=\"dataframe\">\n",
              "  <thead>\n",
              "    <tr style=\"text-align: right;\">\n",
              "      <th></th>\n",
              "      <th>Name</th>\n",
              "      <th>Var</th>\n",
              "    </tr>\n",
              "  </thead>\n",
              "  <tbody>\n",
              "    <tr>\n",
              "      <th>0</th>\n",
              "      <td>0</td>\n",
              "      <td>3838.65</td>\n",
              "    </tr>\n",
              "    <tr>\n",
              "      <th>1</th>\n",
              "      <td>1</td>\n",
              "      <td>3550.195</td>\n",
              "    </tr>\n",
              "    <tr>\n",
              "      <th>2</th>\n",
              "      <td>2</td>\n",
              "      <td>661.589</td>\n",
              "    </tr>\n",
              "    <tr>\n",
              "      <th>3</th>\n",
              "      <td>3</td>\n",
              "      <td>112323.602</td>\n",
              "    </tr>\n",
              "    <tr>\n",
              "      <th>4</th>\n",
              "      <td>4</td>\n",
              "      <td>0.111</td>\n",
              "    </tr>\n",
              "    <tr>\n",
              "      <th>...</th>\n",
              "      <td>...</td>\n",
              "      <td>...</td>\n",
              "    </tr>\n",
              "    <tr>\n",
              "      <th>250</th>\n",
              "      <td>578</td>\n",
              "      <td>0.0</td>\n",
              "    </tr>\n",
              "    <tr>\n",
              "      <th>251</th>\n",
              "      <td>581</td>\n",
              "      <td>1354.308</td>\n",
              "    </tr>\n",
              "    <tr>\n",
              "      <th>252</th>\n",
              "      <td>582</td>\n",
              "      <td>0.0</td>\n",
              "    </tr>\n",
              "    <tr>\n",
              "      <th>253</th>\n",
              "      <td>586</td>\n",
              "      <td>0.0</td>\n",
              "    </tr>\n",
              "    <tr>\n",
              "      <th>254</th>\n",
              "      <td>589</td>\n",
              "      <td>2057.881</td>\n",
              "    </tr>\n",
              "  </tbody>\n",
              "</table>\n",
              "<p>255 rows × 2 columns</p>\n",
              "</div>"
            ],
            "text/plain": [
              "    Name         Var\n",
              "0      0     3838.65\n",
              "1      1    3550.195\n",
              "2      2     661.589\n",
              "3      3  112323.602\n",
              "4      4       0.111\n",
              "..   ...         ...\n",
              "250  578         0.0\n",
              "251  581    1354.308\n",
              "252  582         0.0\n",
              "253  586         0.0\n",
              "254  589    2057.881\n",
              "\n",
              "[255 rows x 2 columns]"
            ]
          },
          "metadata": {},
          "output_type": "display_data"
        },
        {
          "name": "stdout",
          "output_type": "stream",
          "text": [
            "Number of features removed:  189\n"
          ]
        }
      ],
      "source": [
        "def remove_variance(df,thres):\n",
        "    # set_option('precision', 3)\n",
        "    sel = VarianceThreshold(threshold=(thres * (1 - thres)))\n",
        "    var_df = pd.DataFrame({'Name':df.columns,'Var':sel.fit(df).variances_})\n",
        "    display(pd.DataFrame({'Name':df_feature.columns,'Var':np.round(sel.fit(df_feature).variances_,3).astype(str)}))\n",
        "    dummy = var_df['Name'].where(var_df['Var']<(thres * (1 - thres)))\n",
        "    dummy = dummy.dropna()\n",
        "    print('Number of features removed: ',len(dummy))\n",
        "    return(dummy)\n",
        "\n",
        "df_feature = df_feature.drop(remove_variance(df_feature,0.80),axis=1)"
      ]
    },
    {
      "cell_type": "markdown",
      "metadata": {
        "id": "NQfo5XksopkM"
      },
      "source": [
        "## Feature selection"
      ]
    },
    {
      "cell_type": "markdown",
      "metadata": {
        "id": "YuqcFLbBopkM"
      },
      "source": [
        "Using XGBoost to further select the best features."
      ]
    },
    {
      "cell_type": "code",
      "execution_count": 31,
      "metadata": {
        "colab": {
          "base_uri": "https://localhost:8080/",
          "height": 441
        },
        "id": "IbpJXjXkopkM",
        "outputId": "c12be4ec-ad0e-4d44-dc21-6e0ce8e4b902"
      },
      "outputs": [
        {
          "data": {
            "text/html": [
              "<div>\n",
              "<style scoped>\n",
              "    .dataframe tbody tr th:only-of-type {\n",
              "        vertical-align: middle;\n",
              "    }\n",
              "\n",
              "    .dataframe tbody tr th {\n",
              "        vertical-align: top;\n",
              "    }\n",
              "\n",
              "    .dataframe thead th {\n",
              "        text-align: right;\n",
              "    }\n",
              "</style>\n",
              "<table border=\"1\" class=\"dataframe\">\n",
              "  <thead>\n",
              "    <tr style=\"text-align: right;\">\n",
              "      <th></th>\n",
              "      <th>Name</th>\n",
              "      <th>FI</th>\n",
              "    </tr>\n",
              "  </thead>\n",
              "  <tbody>\n",
              "    <tr>\n",
              "      <th>18</th>\n",
              "      <td>59</td>\n",
              "      <td>0.028917</td>\n",
              "    </tr>\n",
              "    <tr>\n",
              "      <th>57</th>\n",
              "      <td>500</td>\n",
              "      <td>0.028818</td>\n",
              "    </tr>\n",
              "    <tr>\n",
              "      <th>56</th>\n",
              "      <td>499</td>\n",
              "      <td>0.027283</td>\n",
              "    </tr>\n",
              "    <tr>\n",
              "      <th>15</th>\n",
              "      <td>41</td>\n",
              "      <td>0.026798</td>\n",
              "    </tr>\n",
              "    <tr>\n",
              "      <th>31</th>\n",
              "      <td>129</td>\n",
              "      <td>0.025274</td>\n",
              "    </tr>\n",
              "    <tr>\n",
              "      <th>...</th>\n",
              "      <td>...</td>\n",
              "      <td>...</td>\n",
              "    </tr>\n",
              "    <tr>\n",
              "      <th>19</th>\n",
              "      <td>63</td>\n",
              "      <td>0.005721</td>\n",
              "    </tr>\n",
              "    <tr>\n",
              "      <th>50</th>\n",
              "      <td>484</td>\n",
              "      <td>0.004655</td>\n",
              "    </tr>\n",
              "    <tr>\n",
              "      <th>53</th>\n",
              "      <td>487</td>\n",
              "      <td>0.004453</td>\n",
              "    </tr>\n",
              "    <tr>\n",
              "      <th>63</th>\n",
              "      <td>570</td>\n",
              "      <td>0.002443</td>\n",
              "    </tr>\n",
              "    <tr>\n",
              "      <th>48</th>\n",
              "      <td>482</td>\n",
              "      <td>0.001476</td>\n",
              "    </tr>\n",
              "  </tbody>\n",
              "</table>\n",
              "<p>66 rows × 2 columns</p>\n",
              "</div>"
            ],
            "text/plain": [
              "   Name        FI\n",
              "18   59  0.028917\n",
              "57  500  0.028818\n",
              "56  499  0.027283\n",
              "15   41  0.026798\n",
              "31  129  0.025274\n",
              "..  ...       ...\n",
              "19   63  0.005721\n",
              "50  484  0.004655\n",
              "53  487  0.004453\n",
              "63  570  0.002443\n",
              "48  482  0.001476\n",
              "\n",
              "[66 rows x 2 columns]"
            ]
          },
          "metadata": {},
          "output_type": "display_data"
        },
        {
          "name": "stdout",
          "output_type": "stream",
          "text": [
            "Number of features with feature importance greater than 0.01 : 51\n"
          ]
        }
      ],
      "source": [
        "def imp_features(X, y):\n",
        "    model = XGBClassifier()\n",
        "    model.fit(X,y)\n",
        "    fi_df = pd.DataFrame({'Name':pd.Series(model.feature_names_in_),'FI':pd.Series(model.feature_importances_)})\n",
        "    dummy = fi_df['Name'].where(fi_df['FI']>0.01)\n",
        "    dummy = dummy.dropna()\n",
        "    display(fi_df.sort_values(by='FI',ascending=False))\n",
        "    print('Number of features with ''feature importance'' greater than 0.01 :',len(dummy))\n",
        "    return(dummy)\n",
        "\n",
        "imp_features = imp_features(df_feature,df_label)\n",
        "df_feature = df_feature[imp_features]"
      ]
    },
    {
      "cell_type": "markdown",
      "metadata": {
        "id": "_sJAYP5RopkM"
      },
      "source": [
        "### Normalize data"
      ]
    },
    {
      "cell_type": "code",
      "execution_count": 32,
      "metadata": {
        "colab": {
          "base_uri": "https://localhost:8080/",
          "height": 487
        },
        "id": "v0Qb6Ei5opkM",
        "outputId": "53f17900-164a-436d-d866-20123053013f"
      },
      "outputs": [
        {
          "data": {
            "text/html": [
              "<div>\n",
              "<style scoped>\n",
              "    .dataframe tbody tr th:only-of-type {\n",
              "        vertical-align: middle;\n",
              "    }\n",
              "\n",
              "    .dataframe tbody tr th {\n",
              "        vertical-align: top;\n",
              "    }\n",
              "\n",
              "    .dataframe thead th {\n",
              "        text-align: right;\n",
              "    }\n",
              "</style>\n",
              "<table border=\"1\" class=\"dataframe\">\n",
              "  <thead>\n",
              "    <tr style=\"text-align: right;\">\n",
              "      <th></th>\n",
              "      <th>0</th>\n",
              "      <th>1</th>\n",
              "      <th>2</th>\n",
              "      <th>14</th>\n",
              "      <th>16</th>\n",
              "      <th>22</th>\n",
              "      <th>23</th>\n",
              "      <th>28</th>\n",
              "      <th>32</th>\n",
              "      <th>39</th>\n",
              "      <th>...</th>\n",
              "      <th>486</th>\n",
              "      <th>488</th>\n",
              "      <th>489</th>\n",
              "      <th>499</th>\n",
              "      <th>500</th>\n",
              "      <th>510</th>\n",
              "      <th>547</th>\n",
              "      <th>548</th>\n",
              "      <th>562</th>\n",
              "      <th>581</th>\n",
              "    </tr>\n",
              "  </thead>\n",
              "  <tbody>\n",
              "    <tr>\n",
              "      <th>0</th>\n",
              "      <td>0.555185</td>\n",
              "      <td>0.699396</td>\n",
              "      <td>0.425333</td>\n",
              "      <td>0.404266</td>\n",
              "      <td>0.586232</td>\n",
              "      <td>0.700024</td>\n",
              "      <td>0.456790</td>\n",
              "      <td>0.233642</td>\n",
              "      <td>0.049837</td>\n",
              "      <td>0.206549</td>\n",
              "      <td>...</td>\n",
              "      <td>0.843543</td>\n",
              "      <td>0.053242</td>\n",
              "      <td>0.000000</td>\n",
              "      <td>0.000000</td>\n",
              "      <td>0.000000</td>\n",
              "      <td>0.601492</td>\n",
              "      <td>0.179573</td>\n",
              "      <td>0.371708</td>\n",
              "      <td>0.292540</td>\n",
              "      <td>0.416064</td>\n",
              "    </tr>\n",
              "    <tr>\n",
              "      <th>1</th>\n",
              "      <td>0.735429</td>\n",
              "      <td>0.408160</td>\n",
              "      <td>0.722609</td>\n",
              "      <td>0.560050</td>\n",
              "      <td>0.233746</td>\n",
              "      <td>0.395167</td>\n",
              "      <td>0.593407</td>\n",
              "      <td>0.468534</td>\n",
              "      <td>0.400721</td>\n",
              "      <td>0.377807</td>\n",
              "      <td>...</td>\n",
              "      <td>0.130702</td>\n",
              "      <td>0.194921</td>\n",
              "      <td>0.000000</td>\n",
              "      <td>0.000000</td>\n",
              "      <td>0.000000</td>\n",
              "      <td>0.437687</td>\n",
              "      <td>0.671576</td>\n",
              "      <td>0.284025</td>\n",
              "      <td>0.555806</td>\n",
              "      <td>0.390176</td>\n",
              "    </tr>\n",
              "    <tr>\n",
              "      <th>2</th>\n",
              "      <td>0.281914</td>\n",
              "      <td>0.687436</td>\n",
              "      <td>0.416125</td>\n",
              "      <td>0.514774</td>\n",
              "      <td>0.258268</td>\n",
              "      <td>0.490359</td>\n",
              "      <td>0.455975</td>\n",
              "      <td>0.396259</td>\n",
              "      <td>0.366217</td>\n",
              "      <td>0.517505</td>\n",
              "      <td>...</td>\n",
              "      <td>0.747295</td>\n",
              "      <td>0.192235</td>\n",
              "      <td>0.328364</td>\n",
              "      <td>0.000000</td>\n",
              "      <td>0.000000</td>\n",
              "      <td>0.437687</td>\n",
              "      <td>0.758536</td>\n",
              "      <td>0.285129</td>\n",
              "      <td>0.692481</td>\n",
              "      <td>0.429521</td>\n",
              "    </tr>\n",
              "    <tr>\n",
              "      <th>3</th>\n",
              "      <td>0.437867</td>\n",
              "      <td>0.451642</td>\n",
              "      <td>0.504023</td>\n",
              "      <td>0.521115</td>\n",
              "      <td>0.428346</td>\n",
              "      <td>0.438125</td>\n",
              "      <td>0.338660</td>\n",
              "      <td>0.160744</td>\n",
              "      <td>0.401954</td>\n",
              "      <td>0.073921</td>\n",
              "      <td>...</td>\n",
              "      <td>0.104719</td>\n",
              "      <td>0.000000</td>\n",
              "      <td>0.442019</td>\n",
              "      <td>0.000000</td>\n",
              "      <td>0.712188</td>\n",
              "      <td>0.437687</td>\n",
              "      <td>0.512237</td>\n",
              "      <td>0.110708</td>\n",
              "      <td>0.749462</td>\n",
              "      <td>0.382780</td>\n",
              "    </tr>\n",
              "    <tr>\n",
              "      <th>4</th>\n",
              "      <td>0.558826</td>\n",
              "      <td>0.519311</td>\n",
              "      <td>0.743114</td>\n",
              "      <td>0.589188</td>\n",
              "      <td>0.719145</td>\n",
              "      <td>0.425433</td>\n",
              "      <td>0.470891</td>\n",
              "      <td>0.155137</td>\n",
              "      <td>0.731503</td>\n",
              "      <td>0.456705</td>\n",
              "      <td>...</td>\n",
              "      <td>0.000000</td>\n",
              "      <td>0.750039</td>\n",
              "      <td>0.000000</td>\n",
              "      <td>0.293140</td>\n",
              "      <td>0.000000</td>\n",
              "      <td>0.437687</td>\n",
              "      <td>0.341144</td>\n",
              "      <td>0.640120</td>\n",
              "      <td>0.205372</td>\n",
              "      <td>0.817843</td>\n",
              "    </tr>\n",
              "    <tr>\n",
              "      <th>...</th>\n",
              "      <td>...</td>\n",
              "      <td>...</td>\n",
              "      <td>...</td>\n",
              "      <td>...</td>\n",
              "      <td>...</td>\n",
              "      <td>...</td>\n",
              "      <td>...</td>\n",
              "      <td>...</td>\n",
              "      <td>...</td>\n",
              "      <td>...</td>\n",
              "      <td>...</td>\n",
              "      <td>...</td>\n",
              "      <td>...</td>\n",
              "      <td>...</td>\n",
              "      <td>...</td>\n",
              "      <td>...</td>\n",
              "      <td>...</td>\n",
              "      <td>...</td>\n",
              "      <td>...</td>\n",
              "      <td>...</td>\n",
              "      <td>...</td>\n",
              "    </tr>\n",
              "    <tr>\n",
              "      <th>1562</th>\n",
              "      <td>0.189638</td>\n",
              "      <td>0.405862</td>\n",
              "      <td>0.369622</td>\n",
              "      <td>0.674419</td>\n",
              "      <td>0.674601</td>\n",
              "      <td>0.398828</td>\n",
              "      <td>0.512690</td>\n",
              "      <td>0.621181</td>\n",
              "      <td>0.153001</td>\n",
              "      <td>0.456705</td>\n",
              "      <td>...</td>\n",
              "      <td>0.182552</td>\n",
              "      <td>0.317968</td>\n",
              "      <td>0.248631</td>\n",
              "      <td>0.000000</td>\n",
              "      <td>0.000000</td>\n",
              "      <td>0.494726</td>\n",
              "      <td>0.410325</td>\n",
              "      <td>0.483205</td>\n",
              "      <td>0.555806</td>\n",
              "      <td>0.390176</td>\n",
              "    </tr>\n",
              "    <tr>\n",
              "      <th>1563</th>\n",
              "      <td>0.614609</td>\n",
              "      <td>0.577287</td>\n",
              "      <td>0.500774</td>\n",
              "      <td>0.489717</td>\n",
              "      <td>0.669561</td>\n",
              "      <td>0.076153</td>\n",
              "      <td>0.549101</td>\n",
              "      <td>0.716508</td>\n",
              "      <td>0.204607</td>\n",
              "      <td>0.981958</td>\n",
              "      <td>...</td>\n",
              "      <td>0.000000</td>\n",
              "      <td>0.273391</td>\n",
              "      <td>0.385479</td>\n",
              "      <td>0.816364</td>\n",
              "      <td>0.875180</td>\n",
              "      <td>0.273791</td>\n",
              "      <td>0.374619</td>\n",
              "      <td>0.174736</td>\n",
              "      <td>0.681124</td>\n",
              "      <td>0.359146</td>\n",
              "    </tr>\n",
              "    <tr>\n",
              "      <th>1564</th>\n",
              "      <td>0.410323</td>\n",
              "      <td>0.156695</td>\n",
              "      <td>0.554627</td>\n",
              "      <td>0.598943</td>\n",
              "      <td>0.440165</td>\n",
              "      <td>0.495485</td>\n",
              "      <td>0.442188</td>\n",
              "      <td>0.628039</td>\n",
              "      <td>0.623755</td>\n",
              "      <td>0.313444</td>\n",
              "      <td>...</td>\n",
              "      <td>0.171036</td>\n",
              "      <td>0.382464</td>\n",
              "      <td>0.138449</td>\n",
              "      <td>0.456716</td>\n",
              "      <td>0.000000</td>\n",
              "      <td>0.509993</td>\n",
              "      <td>0.011084</td>\n",
              "      <td>0.245860</td>\n",
              "      <td>0.186607</td>\n",
              "      <td>0.225610</td>\n",
              "    </tr>\n",
              "    <tr>\n",
              "      <th>1565</th>\n",
              "      <td>0.177159</td>\n",
              "      <td>0.605155</td>\n",
              "      <td>0.350820</td>\n",
              "      <td>0.530339</td>\n",
              "      <td>0.505107</td>\n",
              "      <td>0.465707</td>\n",
              "      <td>0.467381</td>\n",
              "      <td>0.585668</td>\n",
              "      <td>0.320451</td>\n",
              "      <td>0.606866</td>\n",
              "      <td>...</td>\n",
              "      <td>0.130821</td>\n",
              "      <td>0.148023</td>\n",
              "      <td>0.159712</td>\n",
              "      <td>0.511340</td>\n",
              "      <td>0.433728</td>\n",
              "      <td>0.730110</td>\n",
              "      <td>0.374619</td>\n",
              "      <td>0.174736</td>\n",
              "      <td>0.555806</td>\n",
              "      <td>0.484644</td>\n",
              "    </tr>\n",
              "    <tr>\n",
              "      <th>1566</th>\n",
              "      <td>0.316129</td>\n",
              "      <td>0.365798</td>\n",
              "      <td>0.479031</td>\n",
              "      <td>0.610476</td>\n",
              "      <td>0.513206</td>\n",
              "      <td>0.457408</td>\n",
              "      <td>0.479852</td>\n",
              "      <td>0.728973</td>\n",
              "      <td>0.037110</td>\n",
              "      <td>0.456705</td>\n",
              "      <td>...</td>\n",
              "      <td>0.118537</td>\n",
              "      <td>0.237627</td>\n",
              "      <td>0.211056</td>\n",
              "      <td>0.000000</td>\n",
              "      <td>0.000000</td>\n",
              "      <td>0.705582</td>\n",
              "      <td>0.374619</td>\n",
              "      <td>0.174736</td>\n",
              "      <td>0.247503</td>\n",
              "      <td>0.714231</td>\n",
              "    </tr>\n",
              "  </tbody>\n",
              "</table>\n",
              "<p>1567 rows × 51 columns</p>\n",
              "</div>"
            ],
            "text/plain": [
              "             0         1         2        14        16        22        23  \\\n",
              "0     0.555185  0.699396  0.425333  0.404266  0.586232  0.700024  0.456790   \n",
              "1     0.735429  0.408160  0.722609  0.560050  0.233746  0.395167  0.593407   \n",
              "2     0.281914  0.687436  0.416125  0.514774  0.258268  0.490359  0.455975   \n",
              "3     0.437867  0.451642  0.504023  0.521115  0.428346  0.438125  0.338660   \n",
              "4     0.558826  0.519311  0.743114  0.589188  0.719145  0.425433  0.470891   \n",
              "...        ...       ...       ...       ...       ...       ...       ...   \n",
              "1562  0.189638  0.405862  0.369622  0.674419  0.674601  0.398828  0.512690   \n",
              "1563  0.614609  0.577287  0.500774  0.489717  0.669561  0.076153  0.549101   \n",
              "1564  0.410323  0.156695  0.554627  0.598943  0.440165  0.495485  0.442188   \n",
              "1565  0.177159  0.605155  0.350820  0.530339  0.505107  0.465707  0.467381   \n",
              "1566  0.316129  0.365798  0.479031  0.610476  0.513206  0.457408  0.479852   \n",
              "\n",
              "            28        32        39  ...       486       488       489  \\\n",
              "0     0.233642  0.049837  0.206549  ...  0.843543  0.053242  0.000000   \n",
              "1     0.468534  0.400721  0.377807  ...  0.130702  0.194921  0.000000   \n",
              "2     0.396259  0.366217  0.517505  ...  0.747295  0.192235  0.328364   \n",
              "3     0.160744  0.401954  0.073921  ...  0.104719  0.000000  0.442019   \n",
              "4     0.155137  0.731503  0.456705  ...  0.000000  0.750039  0.000000   \n",
              "...        ...       ...       ...  ...       ...       ...       ...   \n",
              "1562  0.621181  0.153001  0.456705  ...  0.182552  0.317968  0.248631   \n",
              "1563  0.716508  0.204607  0.981958  ...  0.000000  0.273391  0.385479   \n",
              "1564  0.628039  0.623755  0.313444  ...  0.171036  0.382464  0.138449   \n",
              "1565  0.585668  0.320451  0.606866  ...  0.130821  0.148023  0.159712   \n",
              "1566  0.728973  0.037110  0.456705  ...  0.118537  0.237627  0.211056   \n",
              "\n",
              "           499       500       510       547       548       562       581  \n",
              "0     0.000000  0.000000  0.601492  0.179573  0.371708  0.292540  0.416064  \n",
              "1     0.000000  0.000000  0.437687  0.671576  0.284025  0.555806  0.390176  \n",
              "2     0.000000  0.000000  0.437687  0.758536  0.285129  0.692481  0.429521  \n",
              "3     0.000000  0.712188  0.437687  0.512237  0.110708  0.749462  0.382780  \n",
              "4     0.293140  0.000000  0.437687  0.341144  0.640120  0.205372  0.817843  \n",
              "...        ...       ...       ...       ...       ...       ...       ...  \n",
              "1562  0.000000  0.000000  0.494726  0.410325  0.483205  0.555806  0.390176  \n",
              "1563  0.816364  0.875180  0.273791  0.374619  0.174736  0.681124  0.359146  \n",
              "1564  0.456716  0.000000  0.509993  0.011084  0.245860  0.186607  0.225610  \n",
              "1565  0.511340  0.433728  0.730110  0.374619  0.174736  0.555806  0.484644  \n",
              "1566  0.000000  0.000000  0.705582  0.374619  0.174736  0.247503  0.714231  \n",
              "\n",
              "[1567 rows x 51 columns]"
            ]
          },
          "execution_count": 32,
          "metadata": {},
          "output_type": "execute_result"
        }
      ],
      "source": [
        "scaler =  MinMaxScaler()\n",
        "scaled_feature = scaler.fit_transform(df_feature)\n",
        "scaled_feature = pd.DataFrame(scaled_feature,columns=df_feature.columns)\n",
        "scaled_feature"
      ]
    },
    {
      "cell_type": "markdown",
      "metadata": {
        "id": "EXvFXecjopkM"
      },
      "source": [
        "## Split training data and testing data"
      ]
    },
    {
      "cell_type": "markdown",
      "metadata": {
        "id": "CA-XreEkopkN"
      },
      "source": [
        "Using a train-test split of 80%-20%.  \n",
        "The split is stratified to maintain the same dependent class distribution for train and test data."
      ]
    },
    {
      "cell_type": "code",
      "execution_count": 33,
      "metadata": {
        "id": "4WTc9mO9opkN"
      },
      "outputs": [],
      "source": [
        "X_train,X_test,y_train,y_test = train_test_split(scaled_feature, df_label, test_size =0.2,stratify=df_label,random_state= 42)"
      ]
    },
    {
      "cell_type": "markdown",
      "metadata": {
        "id": "tZaDdzNiopkN"
      },
      "source": [
        "## Oversampling\n",
        "* Because the data is highly imbalance,we need to do data oversmapling\n",
        "* Using Synthesized Minority Oversampling Technique(SMOTE) to upsampling the minority class data"
      ]
    },
    {
      "cell_type": "code",
      "execution_count": 34,
      "metadata": {
        "colab": {
          "base_uri": "https://localhost:8080/"
        },
        "id": "y7iMyo8IopkN",
        "outputId": "c8416699-d914-4ed8-99e6-280b9164473a"
      },
      "outputs": [
        {
          "name": "stdout",
          "output_type": "stream",
          "text": [
            "before:\n",
            "0    1170\n",
            "1      83\n",
            "Name: Pass/Fail, dtype: int64\n",
            "After Oversampling\n"
          ]
        },
        {
          "data": {
            "text/plain": [
              "0    1170\n",
              "1    1170\n",
              "Name: label, dtype: int64"
            ]
          },
          "execution_count": 34,
          "metadata": {},
          "output_type": "execute_result"
        }
      ],
      "source": [
        "print(\"before:\")\n",
        "print(y_train.value_counts())\n",
        "\n",
        "oversample = BorderlineSMOTE(sampling_strategy=1)\n",
        "\n",
        "X_train_over, Y_train_over = oversample.fit_resample(X_train, y_train)\n",
        "#X_test, Y_test = oversample.fit_resample(X_test, Y_test)\n",
        "traindata_over = X_train_over.copy()\n",
        "traindata_over['label'] = Y_train_over\n",
        "print(\"After Oversampling\")\n",
        "traindata_over['label'].value_counts()"
      ]
    },
    {
      "cell_type": "markdown",
      "metadata": {
        "id": "af0v_dq1su6S"
      },
      "source": [
        "## Evaluation metric"
      ]
    },
    {
      "cell_type": "markdown",
      "metadata": {
        "id": "WMjTzPZ-Y345"
      },
      "source": [
        "* Confusion matrix\n",
        "* AUC (Area Under Curve) : It represents the area under the ROC curve\n",
        "* Sensitivity = TP/(TP + FN)\n",
        "* Specificity = TN/(FP + TN)\n",
        "* G - means  \n",
        "G - means = sqrt(Sensitivity*Specificity)  \n",
        "The G-mean index takes both sensitivity and specificity into consideration and is the harmonic average of both.Only when\n",
        "the sensitivity and specificity are both large, G-mean will\n",
        "increase.\n",
        "\n",
        "* Matthews correlation coefficient (MCC)  \n",
        "MCC = (TP * TN - FP * FN)/sqrt( (TN + FN)*(TN + FP)*(TP + FN)*(TP + FP) )  \n",
        "the MCC index can comprehensively consider\n",
        "sensitivity and specificity. When the data are extremely imbal\u0002anced, according to the definition of the MCC index, the MCC\n",
        "is far less than sensitivity and specificity. T"
      ]
    },
    {
      "cell_type": "code",
      "execution_count": 35,
      "metadata": {
        "id": "K7h5fp4WopkN"
      },
      "outputs": [],
      "source": [
        "def confusion_matrix_plot(cm):\n",
        "  fig, ax = plt.subplots(figsize=(1.5, 1.5))\n",
        "  ax.matshow(cm, cmap=plt.cm.Blues, alpha=0.3)\n",
        "  for i in range(cm.shape[0]):\n",
        "      for j in range(cm.shape[1]):\n",
        "          ax.text(x=j, y=i, s=cm[i,j], va='center', ha='center')\n",
        "  plt.xlabel('predicted label')\n",
        "  plt.ylabel('true label')\n",
        "  plt.show()\n",
        "\n",
        "def Metric(y_true, y_pred, show_result=True ):\n",
        "\tcm = confusion_matrix(y_true, y_pred)\n",
        "\tTN = cm[0][0]\n",
        "\tFP = cm[0][1] # Type 1 error\n",
        "\tFN = cm[1][0] # Type 2 error\n",
        "\tTP = cm[1][1]\n",
        "\tSensitivity = np.round( TP/(TP+FN) ,3) # recall\n",
        "\tSpecificity = np.round( TN/(FP+TN) ,3)\n",
        "\tG_mean = np.round( np.sqrt(Sensitivity*Specificity) ,3)\n",
        "\tMCC = np.round( (TP * TN - FP * FN)/np.sqrt( (TN + FN)*(TN + FP)*(TP + FN)*(TP + FP) ) ,3)\n",
        "\taccuracy = np.round((TP + TN)/(TP+FP+FN+TN),3)\n",
        "\tfpr,tpr,threshold = roc_curve(y_true, y_pred)\n",
        "\troc_auc = np.round( auc(fpr,tpr),3)\n",
        "\n",
        "\tif show_result:\n",
        "\t\tprint(confusion_matrix_plot(cm))\n",
        "\t\tprint('Accuracy =',accuracy,'|Sensitivity(recall) =',Sensitivity,'|Specificity =',Specificity,\"|G-mean =\",G_mean,'|MCC =',MCC)\n",
        "\treturn Sensitivity,Specificity,G_mean,MCC,accuracy,roc_auc"
      ]
    },
    {
      "cell_type": "markdown",
      "metadata": {
        "id": "M7wJ-onlY3HS"
      },
      "source": [
        "### Evaluation method :\n",
        "* Split data into training data and testing data\n",
        "* Stratified 5 Fold cross validation"
      ]
    },
    {
      "cell_type": "code",
      "execution_count": 36,
      "metadata": {
        "id": "0-6JrriqYyKP"
      },
      "outputs": [],
      "source": [
        "def cv_model(model, random_state=42, n_splits =5):\n",
        "  skf = StratifiedKFold(n_splits=n_splits, shuffle=True, random_state=random_state)\n",
        "  Sensitivity_set,Specificity_set,G_mean_set,MCC_set,accuracy_set,auc_set = [],[],[],[],[],[]\n",
        "\n",
        "  for train_index, valid_index in skf.split(scaled_feature, df_label): # split()  method generate indices to split data intSo training and test set.\n",
        "    #print('fold',cnt)\n",
        "    train_x = scaled_feature.iloc[train_index,:]\n",
        "    train_y = df_impute.iloc[train_index,:]['Pass/Fail']\n",
        "\n",
        "    valid_x = scaled_feature.iloc[valid_index,:]\n",
        "    valid_y = df_impute.iloc[valid_index,:]['Pass/Fail']\n",
        "\n",
        "    oversample = BorderlineSMOTE(sampling_strategy=1)\n",
        "    X_train_over, Y_train_over = oversample.fit_resample(train_x, train_y)\n",
        "\n",
        "    Model = model\n",
        "    test_pred = Model.fit(X_train_over,Y_train_over).predict(valid_x)\n",
        "    # print(confusion_matrix(valid_y,test_pred),end=' ')\n",
        "    Sensitivity,Specificity,G_mean,MCC,accuracy,roc_auc = Metric(valid_y,test_pred,show_result=False)\n",
        "    Sensitivity_set.append( Sensitivity )\n",
        "    Specificity_set.append( Specificity )\n",
        "    G_mean_set.append(G_mean)\n",
        "    MCC_set.append(MCC)\n",
        "    accuracy_set.append(accuracy)\n",
        "    auc_set.append(roc_auc)\n",
        "\n",
        "  print('Sensitivity(Recall) =',round(np.mean(Sensitivity_set),3),'| Specificity =',round(np.mean(Specificity_set),3),\n",
        "    '| G-means =',round(np.mean(G_mean_set),3),'| MCC =',round(np.mean(MCC_set),3),\n",
        "    '| accuracy =',round(np.mean(accuracy_set),3),'| auc =',round(np.mean(auc_set),3))\n",
        "\n",
        "  return ( round(np.mean(Sensitivity_set),3) , round(np.mean(Specificity_set),3), round(np.mean(G_mean_set),3),\n",
        "      round(np.mean(MCC_set),3),round(np.mean(accuracy_set),3),round(np.mean(auc_set),3) )"
      ]
    },
    {
      "cell_type": "markdown",
      "metadata": {
        "id": "n7mYfOv3tPD4"
      },
      "source": [
        "## Modeling - Train test split"
      ]
    },
    {
      "cell_type": "code",
      "execution_count": null,
      "metadata": {
        "colab": {
          "base_uri": "https://localhost:8080/",
          "height": 1000
        },
        "id": "PP9oli4copkN",
        "outputId": "48f13b07-6fc3-45fa-defe-f3a363fa495a"
      },
      "outputs": [
        {
          "name": "stdout",
          "output_type": "stream",
          "text": [
            "============================= LogisticRegression =============================\n"
          ]
        },
        {
          "data": {
            "image/png": "[encoded data removed]",
            "text/plain": [
              "<Figure size 150x150 with 1 Axes>"
            ]
          },
          "metadata": {},
          "output_type": "display_data"
        },
        {
          "name": "stdout",
          "output_type": "stream",
          "text": [
            "None\n",
            "Accuracy = 0.755 |Sensitivity(recall) = 0.476 |Specificity = 0.775 |G-mean = 0.607 |MCC = 0.146\n",
            "============================= Random Forest =============================\n"
          ]
        },
        {
          "data": {
            "image/png": "[encoded data removed]",
            "text/plain": [
              "<Figure size 150x150 with 1 Axes>"
            ]
          },
          "metadata": {},
          "output_type": "display_data"
        },
        {
          "name": "stdout",
          "output_type": "stream",
          "text": [
            "None\n",
            "Accuracy = 0.933 |Sensitivity(recall) = 0.095 |Specificity = 0.993 |G-mean = 0.307 |MCC = 0.197\n",
            "============================= SVM =============================\n"
          ]
        },
        {
          "data": {
            "image/png": "[encoded data removed]",
            "text/plain": [
              "<Figure size 150x150 with 1 Axes>"
            ]
          },
          "metadata": {},
          "output_type": "display_data"
        },
        {
          "name": "stdout",
          "output_type": "stream",
          "text": [
            "None\n",
            "Accuracy = 0.924 |Sensitivity(recall) = 0.0 |Specificity = 0.99 |G-mean = 0.0 |MCC = -0.026\n",
            "============================= XGBoost =============================\n"
          ]
        },
        {
          "data": {
            "image/png": "[encoded data removed]",
            "text/plain": [
              "<Figure size 150x150 with 1 Axes>"
            ]
          },
          "metadata": {},
          "output_type": "display_data"
        },
        {
          "name": "stdout",
          "output_type": "stream",
          "text": [
            "None\n",
            "Accuracy = 0.914 |Sensitivity(recall) = 0.095 |Specificity = 0.973 |G-mean = 0.304 |MCC = 0.097\n",
            "============================= KNN =============================\n"
          ]
        },
        {
          "data": {
            "image/png": "[encoded data removed]",
            "text/plain": [
              "<Figure size 150x150 with 1 Axes>"
            ]
          },
          "metadata": {},
          "output_type": "display_data"
        },
        {
          "name": "stdout",
          "output_type": "stream",
          "text": [
            "None\n",
            "Accuracy = 0.503 |Sensitivity(recall) = 0.714 |Specificity = 0.488 |G-mean = 0.59 |MCC = 0.101\n",
            "============================= Extra Tree =============================\n"
          ]
        },
        {
          "data": {
            "image/png": "[encoded data removed]",
            "text/plain": [
              "<Figure size 150x150 with 1 Axes>"
            ]
          },
          "metadata": {},
          "output_type": "display_data"
        },
        {
          "name": "stdout",
          "output_type": "stream",
          "text": [
            "None\n",
            "Accuracy = 0.933 |Sensitivity(recall) = 0.0 |Specificity = 1.0 |G-mean = 0.0 |MCC = nan\n",
            "============================= Gradient Boosting =============================\n"
          ]
        },
        {
          "data": {
            "image/png": "[encoded data removed]",
            "text/plain": [
              "<Figure size 150x150 with 1 Axes>"
            ]
          },
          "metadata": {},
          "output_type": "display_data"
        },
        {
          "name": "stdout",
          "output_type": "stream",
          "text": [
            "None\n",
            "Accuracy = 0.908 |Sensitivity(recall) = 0.286 |Specificity = 0.952 |G-mean = 0.522 |MCC = 0.243\n",
            "============================= lightGBM =============================\n"
          ]
        },
        {
          "data": {
            "image/png": "[encoded data removed]",
            "text/plain": [
              "<Figure size 150x150 with 1 Axes>"
            ]
          },
          "metadata": {},
          "output_type": "display_data"
        },
        {
          "name": "stdout",
          "output_type": "stream",
          "text": [
            "None\n",
            "Accuracy = 0.914 |Sensitivity(recall) = 0.095 |Specificity = 0.973 |G-mean = 0.304 |MCC = 0.097\n",
            "============================= CatBoost =============================\n"
          ]
        },
        {
          "data": {
            "image/png": "[encoded data removed]",
            "text/plain": [
              "<Figure size 150x150 with 1 Axes>"
            ]
          },
          "metadata": {},
          "output_type": "display_data"
        },
        {
          "name": "stdout",
          "output_type": "stream",
          "text": [
            "None\n",
            "Accuracy = 0.927 |Sensitivity(recall) = 0.095 |Specificity = 0.986 |G-mean = 0.306 |MCC = 0.149\n",
            "============================= MLP =============================\n"
          ]
        },
        {
          "data": {
            "image/png": "[encoded data removed]",
            "text/plain": [
              "<Figure size 150x150 with 1 Axes>"
            ]
          },
          "metadata": {},
          "output_type": "display_data"
        },
        {
          "name": "stdout",
          "output_type": "stream",
          "text": [
            "None\n",
            "Accuracy = 0.885 |Sensitivity(recall) = 0.286 |Specificity = 0.928 |G-mean = 0.515 |MCC = 0.191\n"
          ]
        }
      ],
      "source": [
        "classifiers = [LogisticRegression(),\n",
        "        BalancedRandomForestClassifier(),\n",
        "        SVC(),\n",
        "        XGBClassifier(),\n",
        "        KNeighborsClassifier(),\n",
        "        ExtraTreesClassifier(),\n",
        "        GradientBoostingClassifier(),\n",
        "        LGBMClassifier(),\n",
        "        CatBoostClassifier(logging_level='Silent'),\n",
        "        MLPClassifier()]\n",
        "\n",
        "Algorithm = ['LogisticRegression','Random Forest','SVM','XGBoost','KNN','Extra Tree','Gradient Boosting','lightGBM','CatBoost','MLP']\n",
        "i = 0\n",
        "for model in classifiers:\n",
        "  print('=============================',Algorithm[i],'=============================')\n",
        "  test_pred = model.fit(X_train_over,Y_train_over).predict(X_test)\n",
        "  _,_,_,_,_,_ = Metric(y_test,test_pred)\n",
        "  i += 1"
      ]
    },
    {
      "cell_type": "markdown",
      "metadata": {
        "id": "jaT8yaw8aMCo"
      },
      "source": [
        "## Modeling - Stratified 5 Fold cross validation"
      ]
    },
    {
      "cell_type": "code",
      "execution_count": 44,
      "metadata": {
        "colab": {
          "base_uri": "https://localhost:8080/"
        },
        "id": "a-T7ZdNAY8x8",
        "outputId": "549ef4a0-7cf0-4090-b5b6-a2baa837727f"
      },
      "outputs": [
        {
          "name": "stdout",
          "output_type": "stream",
          "text": [
            "=================== LogisticRegression ===================\n",
            "Sensitivity(Recall) = 0.441 | Specificity = 0.737 | G-means = 0.563 | MCC = 0.1 | accuracy = 0.717 | auc = 0.589\n",
            "=================== Random Forest ===================\n",
            "Sensitivity(Recall) = 0.019 | Specificity = 0.986 | G-means = 0.087 | MCC = 0.003 | accuracy = 0.921 | auc = 0.502\n",
            "=================== SVM ===================\n",
            "Sensitivity(Recall) = 0.039 | Specificity = 0.985 | G-means = 0.119 | MCC = 0.032 | accuracy = 0.922 | auc = 0.512\n",
            "=================== XGBoost ===================\n",
            "Sensitivity(Recall) = 0.038 | Specificity = 0.97 | G-means = 0.173 | MCC = 0.015 | accuracy = 0.908 | auc = 0.504\n",
            "=================== KNN ===================\n",
            "Sensitivity(Recall) = 0.682 | Specificity = 0.463 | G-means = 0.561 | MCC = 0.073 | accuracy = 0.478 | auc = 0.573\n",
            "=================== Extra Tree ===================\n",
            "Sensitivity(Recall) = 0.0 | Specificity = 1.0 | G-means = 0.0 | MCC = nan | accuracy = 0.934 | auc = 0.5\n",
            "=================== Gradient Boosting ===================\n",
            "Sensitivity(Recall) = 0.163 | Specificity = 0.93 | G-means = 0.381 | MCC = 0.09 | accuracy = 0.88 | auc = 0.547\n",
            "=================== lightGBM ===================\n",
            "Sensitivity(Recall) = 0.048 | Specificity = 0.979 | G-means = 0.191 | MCC = 0.044 | accuracy = 0.917 | auc = 0.513\n",
            "=================== CatBoost ===================\n",
            "Sensitivity(Recall) = 0.038 | Specificity = 0.977 | G-means = 0.148 | MCC = 0.033 | accuracy = 0.915 | auc = 0.507\n",
            "=================== MLP ===================\n",
            "Sensitivity(Recall) = 0.124 | Specificity = 0.945 | G-means = 0.335 | MCC = 0.072 | accuracy = 0.891 | auc = 0.535\n"
          ]
        }
      ],
      "source": [
        "classifiers = [LogisticRegression(),\n",
        "        BalancedRandomForestClassifier(),\n",
        "        SVC(),\n",
        "        XGBClassifier(),\n",
        "        KNeighborsClassifier(),\n",
        "        ExtraTreesClassifier(),\n",
        "        GradientBoostingClassifier(),\n",
        "        LGBMClassifier(),\n",
        "        CatBoostClassifier(logging_level='Silent'),\n",
        "        MLPClassifier()]\n",
        "\n",
        "Algorithm = ['LogisticRegression','Random Forest','SVM','XGBoost','KNN','Extra Tree','Gradient Boosting','lightGBM','CatBoost','MLP']\n",
        "i = 0\n",
        "for classifier in classifiers:\n",
        "  print('===================',Algorithm[i],'===================')\n",
        "  _,_,_,_,_,_=cv_model(model = classifier , random_state= 42,n_splits = 5)\n",
        "  i += 1"
      ]
    },
    {
      "cell_type": "markdown",
      "metadata": {
        "id": "qRaG0AMeqMGx"
      },
      "source": [
        "### Select 5 model :\n",
        "* Logistic regression\n",
        "* XGBoost\n",
        "* KNN\n",
        "* Catboost\n",
        "* Gradient Boosting"
      ]
    },
    {
      "cell_type": "markdown",
      "metadata": {
        "id": "bHlTASWBopkN"
      },
      "source": [
        "## Model Parameter Tuning and Prediction\n",
        "We using Randomized grid Search to find the best hyperparameters"
      ]
    },
    {
      "cell_type": "code",
      "execution_count": null,
      "metadata": {
        "colab": {
          "base_uri": "https://localhost:8080/"
        },
        "id": "JW5RRvsocaTH",
        "outputId": "7deca7ba-85f4-402f-8c2a-5bd10ad11f75"
      },
      "outputs": [
        {
          "name": "stderr",
          "output_type": "stream",
          "text": [
            "[I 2023-07-25 19:18:29,644] A new study created in memory with name: no-name-223fd4f0-d1c7-46a5-84c3-1005f09b199e\n",
            "[I 2023-07-25 19:19:12,429] Trial 0 finished with value: 0.07666666666666666 and parameters: {'n_estimators': 1700, 'learning_rate': 0.07415539622471788, 'lambda': 5.800482872779111, 'alpha': 2.682756257890863, 'subsample': 0.6084767879912651, 'colsample_bytree': 0.5669428573012001, 'max_depth': 4, 'min_child_weight': 2, 'eta': 0.5410311549734135, 'gamma': 0.4299521201799365}. Best is trial 0 with value: 0.07666666666666666.\n",
            "[I 2023-07-25 19:20:20,299] Trial 1 finished with value: 0.14428571428571427 and parameters: {'n_estimators': 1900, 'learning_rate': 0.03860516984195194, 'lambda': 3.322505259938804, 'alpha': 8.970870703163751, 'subsample': 0.9267094580861713, 'colsample_bytree': 0.7018967942109329, 'max_depth': 5, 'min_child_weight': 2, 'eta': 0.09966360071776649, 'gamma': 0.7466014403860192}. Best is trial 1 with value: 0.14428571428571427.\n",
            "[I 2023-07-25 19:21:12,908] Trial 2 finished with value: 0.10571428571428569 and parameters: {'n_estimators': 1100, 'learning_rate': 0.023602406543990533, 'lambda': 7.667275283904754, 'alpha': 4.67787655288181, 'subsample': 0.8446005234484815, 'colsample_bytree': 0.7825825101451251, 'max_depth': 6, 'min_child_weight': 5, 'eta': 0.09533799354720354, 'gamma': 0.16114262749238947}. Best is trial 1 with value: 0.14428571428571427.\n",
            "[I 2023-07-25 19:21:16,211] Trial 3 finished with value: 0.21190476190476187 and parameters: {'n_estimators': 100, 'learning_rate': 0.09334153626679234, 'lambda': 1.7727380217482367, 'alpha': 7.2858654560455385, 'subsample': 0.8524860428671817, 'colsample_bytree': 0.6598146433742027, 'max_depth': 4, 'min_child_weight': 5, 'eta': 0.8815057259137845, 'gamma': 0.5812578438279674}. Best is trial 3 with value: 0.21190476190476187.\n",
            "[I 2023-07-25 19:23:02,189] Trial 4 finished with value: 0.1442857142857143 and parameters: {'n_estimators': 1500, 'learning_rate': 0.09907604969708901, 'lambda': 2.965319593780662, 'alpha': 3.5534540769519882, 'subsample': 0.9599982309078221, 'colsample_bytree': 0.9495170725033139, 'max_depth': 8, 'min_child_weight': 2, 'eta': 0.26718220410069377, 'gamma': 0.5663840559989134}. Best is trial 3 with value: 0.21190476190476187.\n",
            "[I 2023-07-25 19:23:04,557] Trial 5 finished with value: 0.4033333333333333 and parameters: {'n_estimators': 100, 'learning_rate': 0.028038473312228238, 'lambda': 1.208619094489733, 'alpha': 6.079355189865556, 'subsample': 0.917011600695461, 'colsample_bytree': 0.5493794416359443, 'max_depth': 3, 'min_child_weight': 2, 'eta': 0.6792449471806923, 'gamma': 0.2818459866718011}. Best is trial 5 with value: 0.4033333333333333.\n",
            "[I 2023-07-25 19:23:39,835] Trial 6 finished with value: 0.22142857142857145 and parameters: {'n_estimators': 700, 'learning_rate': 0.015565126266583027, 'lambda': 9.930903820474551, 'alpha': 6.52045343724392, 'subsample': 0.6950936492346578, 'colsample_bytree': 0.791835309211361, 'max_depth': 5, 'min_child_weight': 2, 'eta': 0.82413116978058, 'gamma': 0.03812688091856556}. Best is trial 5 with value: 0.4033333333333333.\n",
            "[I 2023-07-25 19:24:05,144] Trial 7 finished with value: 0.1638095238095238 and parameters: {'n_estimators': 500, 'learning_rate': 0.04812533930955309, 'lambda': 9.196140825469872, 'alpha': 5.0236881603691845, 'subsample': 0.5507193953921348, 'colsample_bytree': 0.9902615482533681, 'max_depth': 5, 'min_child_weight': 2, 'eta': 0.27138805416186706, 'gamma': 0.6714622039563236}. Best is trial 5 with value: 0.4033333333333333.\n",
            "[I 2023-07-25 19:25:07,080] Trial 8 finished with value: 0.12476190476190477 and parameters: {'n_estimators': 1500, 'learning_rate': 0.054823746238693044, 'lambda': 9.720386666268372, 'alpha': 2.089810213450789, 'subsample': 0.9196642049903883, 'colsample_bytree': 0.8343020733996998, 'max_depth': 4, 'min_child_weight': 3, 'eta': 0.22561917918255991, 'gamma': 0.32146956395355697}. Best is trial 5 with value: 0.4033333333333333.\n",
            "[I 2023-07-25 19:25:16,318] Trial 9 finished with value: 0.12476190476190477 and parameters: {'n_estimators': 100, 'learning_rate': 0.09411457711167154, 'lambda': 6.150806704192158, 'alpha': 4.081336019171313, 'subsample': 0.813877296661154, 'colsample_bytree': 0.8208714337692249, 'max_depth': 10, 'min_child_weight': 2, 'eta': 0.09514898730924697, 'gamma': 0.07743786266489769}. Best is trial 5 with value: 0.4033333333333333.\n",
            "[I 2023-07-25 19:25:28,641] Trial 10 finished with value: 0.25999999999999995 and parameters: {'n_estimators': 500, 'learning_rate': 0.011036544055496075, 'lambda': 0.2412349527126444, 'alpha': 1.238685368007502, 'subsample': 0.9932672485936961, 'colsample_bytree': 0.5078949455255231, 'max_depth': 3, 'min_child_weight': 4, 'eta': 0.7081795663638677, 'gamma': 0.9789934527455237}. Best is trial 5 with value: 0.4033333333333333.\n",
            "[I 2023-07-25 19:25:41,091] Trial 11 finished with value: 0.2980952380952381 and parameters: {'n_estimators': 500, 'learning_rate': 0.010515725363830403, 'lambda': 0.057629476912945954, 'alpha': 0.5103166301696112, 'subsample': 0.9903659610163478, 'colsample_bytree': 0.5006747747213934, 'max_depth': 3, 'min_child_weight': 4, 'eta': 0.6757227597846583, 'gamma': 0.9987234463375769}. Best is trial 5 with value: 0.4033333333333333.\n",
            "[I 2023-07-25 19:25:47,523] Trial 12 finished with value: 0.19190476190476188 and parameters: {'n_estimators': 300, 'learning_rate': 0.029632519116974416, 'lambda': 0.23174945161975777, 'alpha': 0.19294786924895035, 'subsample': 0.9982108867103319, 'colsample_bytree': 0.511304972048044, 'max_depth': 3, 'min_child_weight': 4, 'eta': 0.6433103587745159, 'gamma': 0.9816560746563383}. Best is trial 5 with value: 0.4033333333333333.\n",
            "[I 2023-07-25 19:26:46,352] Trial 13 finished with value: 0.047619047619047616 and parameters: {'n_estimators': 900, 'learning_rate': 0.010682432660876734, 'lambda': 1.289272195668425, 'alpha': 0.8354217728228917, 'subsample': 0.8972049324657969, 'colsample_bytree': 0.5984781452576291, 'max_depth': 8, 'min_child_weight': 1, 'eta': 0.5030772872987883, 'gamma': 0.36706755737320373}. Best is trial 5 with value: 0.4033333333333333.\n",
            "[I 2023-07-25 19:26:54,799] Trial 14 finished with value: 0.21095238095238092 and parameters: {'n_estimators': 300, 'learning_rate': 0.02938146535313884, 'lambda': 3.6534455460677253, 'alpha': 2.192647962757133, 'subsample': 0.7718369999683001, 'colsample_bytree': 0.5975010916615887, 'max_depth': 3, 'min_child_weight': 4, 'eta': 0.9500926994204015, 'gamma': 0.24496828783741442}. Best is trial 5 with value: 0.4033333333333333.\n",
            "[I 2023-07-25 19:27:39,326] Trial 15 finished with value: 0.10523809523809521 and parameters: {'n_estimators': 1100, 'learning_rate': 0.03928736579015393, 'lambda': 1.671976436793091, 'alpha': 5.833638695511269, 'subsample': 0.8923282333357928, 'colsample_bytree': 0.5009007099747249, 'max_depth': 7, 'min_child_weight': 3, 'eta': 0.7230697304424272, 'gamma': 0.8330045520822569}. Best is trial 5 with value: 0.4033333333333333.\n",
            "[I 2023-07-25 19:28:29,075] Trial 16 finished with value: 0.06666666666666667 and parameters: {'n_estimators': 700, 'learning_rate': 0.019389639735137902, 'lambda': 0.010556418096532738, 'alpha': 0.15076663111970579, 'subsample': 0.9532862690177399, 'colsample_bytree': 0.6581170990803018, 'max_depth': 10, 'min_child_weight': 1, 'eta': 0.5907767172997487, 'gamma': 0.47690387742075424}. Best is trial 5 with value: 0.4033333333333333.\n",
            "[I 2023-07-25 19:28:35,801] Trial 17 finished with value: 0.26952380952380955 and parameters: {'n_estimators': 100, 'learning_rate': 0.023718804572207028, 'lambda': 2.2666023728585607, 'alpha': 3.5258142149604854, 'subsample': 0.9998165465041708, 'colsample_bytree': 0.5682945632863334, 'max_depth': 6, 'min_child_weight': 3, 'eta': 0.4365878102473577, 'gamma': 0.25747685762303973}. Best is trial 5 with value: 0.4033333333333333.\n",
            "[I 2023-07-25 19:28:48,396] Trial 18 finished with value: 0.17333333333333334 and parameters: {'n_estimators': 500, 'learning_rate': 0.03495930890715704, 'lambda': 3.9214101644217894, 'alpha': 7.66316139074698, 'subsample': 0.8747934154181748, 'colsample_bytree': 0.5556161866835513, 'max_depth': 3, 'min_child_weight': 4, 'eta': 0.9977112246621533, 'gamma': 0.41755337770177003}. Best is trial 5 with value: 0.4033333333333333.\n",
            "[I 2023-07-25 19:29:04,967] Trial 19 finished with value: 0.34571428571428575 and parameters: {'n_estimators': 300, 'learning_rate': 0.010261129537512202, 'lambda': 1.04822066906942, 'alpha': 5.515783543283025, 'subsample': 0.8152276436391159, 'colsample_bytree': 0.6498026886501191, 'max_depth': 4, 'min_child_weight': 5, 'eta': 0.7566355406390672, 'gamma': 0.5492555119504654}. Best is trial 5 with value: 0.4033333333333333.\n",
            "[I 2023-07-25 19:29:23,246] Trial 20 finished with value: 0.2695238095238095 and parameters: {'n_estimators': 300, 'learning_rate': 0.01953394049231187, 'lambda': 4.1412945799367336, 'alpha': 5.419356417004703, 'subsample': 0.8014955765069015, 'colsample_bytree': 0.6557305798902485, 'max_depth': 4, 'min_child_weight': 5, 'eta': 0.7951517851698302, 'gamma': 0.5195611232492092}. Best is trial 5 with value: 0.4033333333333333.\n",
            "[I 2023-07-25 19:29:41,566] Trial 21 finished with value: 0.3080952380952381 and parameters: {'n_estimators': 700, 'learning_rate': 0.01073688052675234, 'lambda': 1.1708853301337632, 'alpha': 5.688293373081068, 'subsample': 0.9398862809126042, 'colsample_bytree': 0.6077630854816797, 'max_depth': 3, 'min_child_weight': 5, 'eta': 0.6633598378732298, 'gamma': 0.803490185099382}. Best is trial 5 with value: 0.4033333333333333.\n",
            "[I 2023-07-25 19:30:13,603] Trial 22 finished with value: 0.16333333333333333 and parameters: {'n_estimators': 700, 'learning_rate': 0.024668381065960303, 'lambda': 1.1784512579849968, 'alpha': 6.072476593393004, 'subsample': 0.7286261204522213, 'colsample_bytree': 0.6204265808195517, 'max_depth': 4, 'min_child_weight': 5, 'eta': 0.7571836340787987, 'gamma': 0.6537135723863425}. Best is trial 5 with value: 0.4033333333333333.\n",
            "[I 2023-07-25 19:30:40,296] Trial 23 finished with value: 0.17285714285714288 and parameters: {'n_estimators': 900, 'learning_rate': 0.01902676859882832, 'lambda': 2.6094821092459792, 'alpha': 6.8193843521938495, 'subsample': 0.8605793611121639, 'colsample_bytree': 0.7152603869296391, 'max_depth': 3, 'min_child_weight': 5, 'eta': 0.6157738733738726, 'gamma': 0.4985921037012129}. Best is trial 5 with value: 0.4033333333333333.\n",
            "[I 2023-07-25 19:30:54,096] Trial 24 finished with value: 0.26904761904761904 and parameters: {'n_estimators': 300, 'learning_rate': 0.013830176051170887, 'lambda': 1.0434195222265972, 'alpha': 5.377243207342275, 'subsample': 0.9031479102787302, 'colsample_bytree': 0.62628316307473, 'max_depth': 5, 'min_child_weight': 3, 'eta': 0.8506030284650441, 'gamma': 0.8467076565956514}. Best is trial 5 with value: 0.4033333333333333.\n",
            "[I 2023-07-25 19:30:57,200] Trial 25 finished with value: 0.37476190476190474 and parameters: {'n_estimators': 100, 'learning_rate': 0.029171950787746533, 'lambda': 2.566483657897799, 'alpha': 4.49751636808514, 'subsample': 0.9429722801658079, 'colsample_bytree': 0.548123388609531, 'max_depth': 4, 'min_child_weight': 1, 'eta': 0.7506708846687541, 'gamma': 0.3773278609138002}. Best is trial 5 with value: 0.4033333333333333.\n",
            "[I 2023-07-25 19:31:03,592] Trial 26 finished with value: 0.25952380952380955 and parameters: {'n_estimators': 100, 'learning_rate': 0.03409265837018276, 'lambda': 2.734439628244503, 'alpha': 4.492231962399886, 'subsample': 0.81583958013952, 'colsample_bytree': 0.5471124339180585, 'max_depth': 6, 'min_child_weight': 1, 'eta': 0.7678313983508669, 'gamma': 0.34049483402873604}. Best is trial 5 with value: 0.4033333333333333.\n",
            "[I 2023-07-25 19:31:06,604] Trial 27 finished with value: 0.3071428571428571 and parameters: {'n_estimators': 100, 'learning_rate': 0.04374711408080181, 'lambda': 2.327051532487496, 'alpha': 7.960789466079433, 'subsample': 0.8679650085257179, 'colsample_bytree': 0.548348910349918, 'max_depth': 4, 'min_child_weight': 1, 'eta': 0.8864435186884496, 'gamma': 0.41529113845140997}. Best is trial 5 with value: 0.4033333333333333.\n",
            "[I 2023-07-25 19:31:20,290] Trial 28 finished with value: 0.17333333333333334 and parameters: {'n_estimators': 300, 'learning_rate': 0.03088525358206327, 'lambda': 4.302917078185862, 'alpha': 6.397964838835865, 'subsample': 0.9291285542581559, 'colsample_bytree': 0.5802403615786517, 'max_depth': 5, 'min_child_weight': 1, 'eta': 0.7425216762075709, 'gamma': 0.22347869735329878}. Best is trial 5 with value: 0.4033333333333333.\n",
            "[I 2023-07-25 19:31:53,697] Trial 29 finished with value: 0.10571428571428569 and parameters: {'n_estimators': 1300, 'learning_rate': 0.06196371066291556, 'lambda': 2.046057255080509, 'alpha': 4.938258498345406, 'subsample': 0.6801834656983521, 'colsample_bytree': 0.5506890098258542, 'max_depth': 4, 'min_child_weight': 1, 'eta': 0.5466541936610395, 'gamma': 0.419119936981727}. Best is trial 5 with value: 0.4033333333333333.\n"
          ]
        },
        {
          "name": "stdout",
          "output_type": "stream",
          "text": [
            "Best params: {'n_estimators': 100, 'learning_rate': 0.028038473312228238, 'lambda': 1.208619094489733, 'alpha': 6.079355189865556, 'subsample': 0.917011600695461, 'colsample_bytree': 0.5493794416359443, 'max_depth': 3, 'min_child_weight': 2, 'eta': 0.6792449471806923, 'gamma': 0.2818459866718011}\n",
            "Best recall score: 0.4033333333333333\n"
          ]
        }
      ],
      "source": [
        "# XGBoost 1\n",
        "def objective(trial):\n",
        "    params = {\n",
        "        'n_estimators': trial.suggest_int('n_estimators', 100, 2000, step=200),\n",
        "        'learning_rate': trial.suggest_float('learning_rate', 0.01, 0.1),\n",
        "        'lambda': trial.suggest_float('lambda', 1e-6, 10.0),\n",
        "        'alpha': trial.suggest_float('alpha', 1e-6, 10.0),\n",
        "       'subsample': trial.suggest_float('subsample', 0.5, 1.0),\n",
        "       'colsample_bytree': trial.suggest_float('colsample_bytree', 0.5, 1.0),\n",
        "       'max_depth': trial.suggest_int('max_depth', 3, 10),\n",
        "       'min_child_weight': trial.suggest_int('min_child_weight', 1, 5),\n",
        "        'eta': trial.suggest_float('eta', 1e-8, 1.0),\n",
        "       'gamma': trial.suggest_float('gamma', 1e-8, 1.0),\n",
        "\n",
        "    }\n",
        "\n",
        "    model = XGBClassifier(random_state=42, **params)\n",
        "\n",
        "    # Perform k-fold cross-validation\n",
        "    skf = StratifiedKFold(n_splits=5, shuffle=True, random_state=42)\n",
        "    scores = []\n",
        "    for train_index, valid_index in skf.split(scaled_feature, df_label):\n",
        "        train_x = scaled_feature.iloc[train_index,:]\n",
        "        train_y = df_impute.iloc[train_index,:]['Pass/Fail']\n",
        "\n",
        "        valid_x = scaled_feature.iloc[valid_index,:]\n",
        "        valid_y = df_impute.iloc[valid_index,:]['Pass/Fail']\n",
        "\n",
        "        X_train_over, Y_train_over = BorderlineSMOTE(sampling_strategy=1).fit_resample(train_x, train_y)\n",
        "        model.fit(X_train_over, Y_train_over)\n",
        "\n",
        "        y_val_pred = model.predict(valid_x)\n",
        "        cm = confusion_matrix(valid_y, y_val_pred)\n",
        "        recall = cm[1][1] /(cm[1][1]+cm[1][0]) # recall\n",
        "        scores.append(recall)\n",
        "\n",
        "    avg_score = sum(scores) / len(scores)\n",
        "\n",
        "    return avg_score\n",
        "\n",
        "study = optuna.create_study(direction='maximize')\n",
        "study.optimize(objective, n_trials=30)\n",
        "\n",
        "best_params = study.best_params\n",
        "best_score = study.best_value\n",
        "\n",
        "print(\"Best params:\", best_params)\n",
        "print(\"Best recall score:\", best_score)\n",
        "\n",
        "# Best params: {'n_estimators': 100, 'learning_rate': 0.028038473312228238, 'lambda': 1.208619094489733, 'alpha': 6.079355189865556, 'subsample': 0.917011600695461, 'colsample_bytree': 0.5493794416359443, 'max_depth': 3, 'min_child_weight': 2, 'eta': 0.6792449471806923, 'gamma': 0.2818459866718011}\n",
        "# Best recall score: 0.4033333333333333"
      ]
    },
    {
      "cell_type": "code",
      "execution_count": null,
      "metadata": {
        "colab": {
          "base_uri": "https://localhost:8080/"
        },
        "id": "2Q1JLCSBhoIV",
        "outputId": "47d682f8-5f8e-4284-8a8d-72091010f0bf"
      },
      "outputs": [
        {
          "name": "stderr",
          "output_type": "stream",
          "text": [
            "[I 2023-07-25 20:04:33,686] A new study created in memory with name: no-name-89e5ffc2-589b-415a-92de-8cd185f36edd\n",
            "[I 2023-07-25 20:04:35,504] Trial 0 finished with value: 0.19142857142857142 and parameters: {'iterations': 100, 'learning_rate': 0.08213631915227049, 'depth': 4, 'l2_leaf_reg': 6.891964281217621, 'bagging_temperature': 5.135423240037933, 'random_strength': 0.4859378299362449, 'border_count': 78}. Best is trial 0 with value: 0.19142857142857142.\n",
            "[I 2023-07-25 20:05:50,986] Trial 1 finished with value: 0.02857142857142857 and parameters: {'iterations': 800, 'learning_rate': 0.0243802881719061, 'depth': 9, 'l2_leaf_reg': 4.221173884830766, 'bagging_temperature': 8.096699144322697, 'random_strength': 2.514484838712907, 'border_count': 68}. Best is trial 0 with value: 0.19142857142857142.\n",
            "[I 2023-07-25 20:06:21,856] Trial 2 finished with value: 0.05714285714285714 and parameters: {'iterations': 400, 'learning_rate': 0.03539579609085077, 'depth': 8, 'l2_leaf_reg': 6.988042252460145, 'bagging_temperature': 9.951124976867874, 'random_strength': 8.615612283565094, 'border_count': 103}. Best is trial 0 with value: 0.19142857142857142.\n",
            "[I 2023-07-25 20:06:25,486] Trial 3 finished with value: 0.3652380952380952 and parameters: {'iterations': 300, 'learning_rate': 0.014900894433181978, 'depth': 3, 'l2_leaf_reg': 7.394353582101555, 'bagging_temperature': 7.080961726030038, 'random_strength': 7.841910226424997, 'border_count': 185}. Best is trial 3 with value: 0.3652380952380952.\n",
            "[I 2023-07-25 20:06:29,581] Trial 4 finished with value: 0.12428571428571429 and parameters: {'iterations': 100, 'learning_rate': 0.09464755201757014, 'depth': 6, 'l2_leaf_reg': 4.195645444853629, 'bagging_temperature': 6.688605996703552, 'random_strength': 5.259436593272262, 'border_count': 185}. Best is trial 3 with value: 0.3652380952380952.\n",
            "[I 2023-07-25 20:08:42,945] Trial 5 finished with value: 0.047619047619047616 and parameters: {'iterations': 300, 'learning_rate': 0.06040578282240527, 'depth': 10, 'l2_leaf_reg': 8.334670407854313, 'bagging_temperature': 4.329920172101032, 'random_strength': 1.8299719588237329, 'border_count': 223}. Best is trial 3 with value: 0.3652380952380952.\n",
            "[I 2023-07-25 20:08:52,795] Trial 6 finished with value: 0.047619047619047616 and parameters: {'iterations': 700, 'learning_rate': 0.08093859381415813, 'depth': 7, 'l2_leaf_reg': 3.0709897750486315, 'bagging_temperature': 5.654737933421227, 'random_strength': 2.985852825537484, 'border_count': 17}. Best is trial 3 with value: 0.3652380952380952.\n",
            "[I 2023-07-25 20:08:58,364] Trial 7 finished with value: 0.17190476190476192 and parameters: {'iterations': 300, 'learning_rate': 0.02528669404052871, 'depth': 4, 'l2_leaf_reg': 4.523875927123538, 'bagging_temperature': 8.50429289759053, 'random_strength': 1.4021115851634003, 'border_count': 120}. Best is trial 3 with value: 0.3652380952380952.\n",
            "[I 2023-07-25 20:09:17,933] Trial 8 finished with value: 0.009523809523809523 and parameters: {'iterations': 200, 'learning_rate': 0.08069126129220366, 'depth': 10, 'l2_leaf_reg': 0.8829838833966951, 'bagging_temperature': 3.984569453265896, 'random_strength': 7.300653877626461, 'border_count': 44}. Best is trial 3 with value: 0.3652380952380952.\n",
            "[I 2023-07-25 20:09:24,324] Trial 9 finished with value: 0.02857142857142857 and parameters: {'iterations': 800, 'learning_rate': 0.05654936595068429, 'depth': 4, 'l2_leaf_reg': 4.842841447289038, 'bagging_temperature': 4.364719366546462, 'random_strength': 5.018130222095417, 'border_count': 3}. Best is trial 3 with value: 0.3652380952380952.\n",
            "[I 2023-07-25 20:09:29,849] Trial 10 finished with value: 0.3457142857142857 and parameters: {'iterations': 500, 'learning_rate': 0.012666581238935597, 'depth': 3, 'l2_leaf_reg': 8.536707892687119, 'bagging_temperature': 1.778172720784453, 'random_strength': 9.710417679416842, 'border_count': 168}. Best is trial 3 with value: 0.3652380952380952.\n",
            "[I 2023-07-25 20:09:37,254] Trial 11 finished with value: 0.3171428571428571 and parameters: {'iterations': 500, 'learning_rate': 0.014410934757427664, 'depth': 3, 'l2_leaf_reg': 9.820264783628929, 'bagging_temperature': 1.1993399012081283, 'random_strength': 9.888284901480791, 'border_count': 174}. Best is trial 3 with value: 0.3652380952380952.\n",
            "[I 2023-07-25 20:09:49,607] Trial 12 finished with value: 0.3061904761904762 and parameters: {'iterations': 1000, 'learning_rate': 0.010423827049217568, 'depth': 3, 'l2_leaf_reg': 6.996603074025578, 'bagging_temperature': 0.9689370962758499, 'random_strength': 9.93721925776343, 'border_count': 165}. Best is trial 3 with value: 0.3652380952380952.\n",
            "[I 2023-07-25 20:10:09,633] Trial 13 finished with value: 0.06666666666666667 and parameters: {'iterations': 600, 'learning_rate': 0.036791460430939, 'depth': 5, 'l2_leaf_reg': 9.92919066155508, 'bagging_temperature': 2.484784591145267, 'random_strength': 7.3403425115913805, 'border_count': 253}. Best is trial 3 with value: 0.3652380952380952.\n",
            "[I 2023-07-25 20:10:29,216] Trial 14 finished with value: 0.14428571428571427 and parameters: {'iterations': 500, 'learning_rate': 0.010948845690944412, 'depth': 6, 'l2_leaf_reg': 8.202135335300998, 'bagging_temperature': 0.3114853966404727, 'random_strength': 8.216800369376108, 'border_count': 154}. Best is trial 3 with value: 0.3652380952380952.\n",
            "[I 2023-07-25 20:10:34,558] Trial 15 finished with value: 0.1819047619047619 and parameters: {'iterations': 400, 'learning_rate': 0.03503733054233864, 'depth': 3, 'l2_leaf_reg': 6.050750115733152, 'bagging_temperature': 2.6764990333254883, 'random_strength': 6.267764784242678, 'border_count': 225}. Best is trial 3 with value: 0.3652380952380952.\n",
            "[I 2023-07-25 20:10:43,980] Trial 16 finished with value: 0.08619047619047618 and parameters: {'iterations': 300, 'learning_rate': 0.04502856037197155, 'depth': 5, 'l2_leaf_reg': 8.660295956790252, 'bagging_temperature': 6.2803691813005695, 'random_strength': 8.521032928834467, 'border_count': 203}. Best is trial 3 with value: 0.3652380952380952.\n",
            "[I 2023-07-25 20:10:59,570] Trial 17 finished with value: 0.11476190476190476 and parameters: {'iterations': 700, 'learning_rate': 0.017592697151046242, 'depth': 5, 'l2_leaf_reg': 5.851922273965556, 'bagging_temperature': 2.6985877765420523, 'random_strength': 6.3353064476902325, 'border_count': 141}. Best is trial 3 with value: 0.3652380952380952.\n",
            "[I 2023-07-25 20:11:29,306] Trial 18 finished with value: 0.047619047619047616 and parameters: {'iterations': 600, 'learning_rate': 0.023322736109645636, 'depth': 7, 'l2_leaf_reg': 8.774494514991874, 'bagging_temperature': 6.852606556220466, 'random_strength': 9.18057872848148, 'border_count': 122}. Best is trial 3 with value: 0.3652380952380952.\n",
            "[I 2023-07-25 20:11:35,886] Trial 19 finished with value: 0.34523809523809523 and parameters: {'iterations': 400, 'learning_rate': 0.020855210618594855, 'depth': 3, 'l2_leaf_reg': 7.762067147419083, 'bagging_temperature': 3.247547708704881, 'random_strength': 9.991102920864435, 'border_count': 200}. Best is trial 3 with value: 0.3652380952380952.\n",
            "[I 2023-07-25 20:11:39,856] Trial 20 finished with value: 0.29761904761904756 and parameters: {'iterations': 200, 'learning_rate': 0.02923878724949812, 'depth': 4, 'l2_leaf_reg': 9.24632383234519, 'bagging_temperature': 1.816297307732171, 'random_strength': 7.840970871600584, 'border_count': 230}. Best is trial 3 with value: 0.3652380952380952.\n",
            "[I 2023-07-25 20:11:46,366] Trial 21 finished with value: 0.3357142857142857 and parameters: {'iterations': 400, 'learning_rate': 0.018443752351377404, 'depth': 3, 'l2_leaf_reg': 7.978994206742047, 'bagging_temperature': 3.38487148234132, 'random_strength': 9.208843416263766, 'border_count': 193}. Best is trial 3 with value: 0.3652380952380952.\n",
            "[I 2023-07-25 20:11:52,853] Trial 22 finished with value: 0.3838095238095238 and parameters: {'iterations': 500, 'learning_rate': 0.01027086631849947, 'depth': 3, 'l2_leaf_reg': 7.727513266068814, 'bagging_temperature': 3.4323289112268, 'random_strength': 9.9560750101214, 'border_count': 206}. Best is trial 22 with value: 0.3838095238095238.\n",
            "[I 2023-07-25 20:12:04,782] Trial 23 finished with value: 0.29714285714285715 and parameters: {'iterations': 500, 'learning_rate': 0.010677789474689005, 'depth': 4, 'l2_leaf_reg': 7.65737783296511, 'bagging_temperature': 1.782695971247977, 'random_strength': 9.086969958875155, 'border_count': 255}. Best is trial 22 with value: 0.3838095238095238.\n",
            "[I 2023-07-25 20:12:18,679] Trial 24 finished with value: 0.12476190476190477 and parameters: {'iterations': 600, 'learning_rate': 0.016672108566877175, 'depth': 5, 'l2_leaf_reg': 9.155138607986702, 'bagging_temperature': 0.08243120522115266, 'random_strength': 7.648977057999988, 'border_count': 145}. Best is trial 22 with value: 0.3838095238095238.\n",
            "[I 2023-07-25 20:12:22,305] Trial 25 finished with value: 0.27809523809523806 and parameters: {'iterations': 200, 'learning_rate': 0.02834619543081785, 'depth': 3, 'l2_leaf_reg': 6.152331417841631, 'bagging_temperature': 5.313831747584759, 'random_strength': 9.150089393235346, 'border_count': 173}. Best is trial 22 with value: 0.3838095238095238.\n",
            "[I 2023-07-25 20:12:36,734] Trial 26 finished with value: 0.15333333333333332 and parameters: {'iterations': 700, 'learning_rate': 0.018325017848027245, 'depth': 4, 'l2_leaf_reg': 7.391169619025786, 'bagging_temperature': 3.851207954234383, 'random_strength': 8.197778509940434, 'border_count': 214}. Best is trial 22 with value: 0.3838095238095238.\n",
            "[I 2023-07-25 20:12:42,162] Trial 27 finished with value: 0.3652380952380952 and parameters: {'iterations': 500, 'learning_rate': 0.014764910404984058, 'depth': 3, 'l2_leaf_reg': 9.111646619471003, 'bagging_temperature': 3.265529960053461, 'random_strength': 6.974606059661928, 'border_count': 162}. Best is trial 22 with value: 0.3838095238095238.\n",
            "[I 2023-07-25 20:12:51,184] Trial 28 finished with value: 0.06666666666666667 and parameters: {'iterations': 300, 'learning_rate': 0.028630501102350207, 'depth': 6, 'l2_leaf_reg': 9.31240480380251, 'bagging_temperature': 4.395480207943746, 'random_strength': 6.564167062029345, 'border_count': 104}. Best is trial 22 with value: 0.3838095238095238.\n",
            "[I 2023-07-25 20:12:53,862] Trial 29 finished with value: 0.34523809523809523 and parameters: {'iterations': 100, 'learning_rate': 0.020277248025244242, 'depth': 5, 'l2_leaf_reg': 6.801899946799085, 'bagging_temperature': 4.900579538564362, 'random_strength': 6.8120930740747685, 'border_count': 183}. Best is trial 22 with value: 0.3838095238095238.\n"
          ]
        },
        {
          "name": "stdout",
          "output_type": "stream",
          "text": [
            "Best params: {'iterations': 500, 'learning_rate': 0.01027086631849947, 'depth': 3, 'l2_leaf_reg': 7.727513266068814, 'bagging_temperature': 3.4323289112268, 'random_strength': 9.9560750101214, 'border_count': 206}\n",
            "Best recall score: 0.3838095238095238\n"
          ]
        }
      ],
      "source": [
        "# CatBoost 1\n",
        "def objective(trial):\n",
        "\n",
        "    params = {\n",
        "        'iterations': trial.suggest_int('iterations', 100, 1000, step=100),\n",
        "        'learning_rate': trial.suggest_float('learning_rate', 0.01, 0.1),\n",
        "        'depth': trial.suggest_int('depth', 3, 10),\n",
        "        'l2_leaf_reg': trial.suggest_float('l2_leaf_reg', 1e-6, 10.0),\n",
        "        'bagging_temperature': trial.suggest_float('bagging_temperature', 0.0, 10.0),\n",
        "        'random_strength': trial.suggest_float('random_strength', 0.0, 10.0),\n",
        "        'border_count': trial.suggest_int('border_count', 1, 255),\n",
        "        'random_state': 42,\n",
        "    }\n",
        "\n",
        "    model = CatBoostClassifier(**params, auto_class_weights='Balanced')\n",
        "\n",
        "    # Perform k-fold cross-validation\n",
        "    skf = StratifiedKFold(n_splits=5, shuffle=True, random_state=42)\n",
        "    scores = []\n",
        "    for train_index, valid_index in skf.split(scaled_feature, df_label):\n",
        "        train_x = scaled_feature.iloc[train_index,:]\n",
        "        train_y = df_impute.iloc[train_index,:]['Pass/Fail']\n",
        "\n",
        "        valid_x = scaled_feature.iloc[valid_index,:]\n",
        "        valid_y = df_impute.iloc[valid_index,:]['Pass/Fail']\n",
        "\n",
        "        X_train_over, Y_train_over = BorderlineSMOTE(sampling_strategy=1).fit_resample(train_x, train_y)\n",
        "        model.fit(X_train_over, Y_train_over,verbose = False)\n",
        "\n",
        "        y_val_pred = model.predict(valid_x)\n",
        "        cm = confusion_matrix(valid_y, y_val_pred)\n",
        "        recall = cm[1][1] /(cm[1][1]+cm[1][0]) # recall\n",
        "        scores.append(recall)\n",
        "\n",
        "    avg_score = sum(scores) / len(scores)\n",
        "\n",
        "    return avg_score\n",
        "\n",
        "study = optuna.create_study(direction='maximize')\n",
        "study.optimize(objective, n_trials=30)\n",
        "\n",
        "best_params = study.best_params\n",
        "best_score = study.best_value\n",
        "\n",
        "print(\"Best params:\", best_params)\n",
        "print(\"Best recall score:\", best_score)\n",
        "\n",
        "# Best params: {'iterations': 500, 'learning_rate': 0.01027086631849947, 'depth': 3, 'l2_leaf_reg': 7.727513266068814, 'bagging_temperature': 3.4323289112268, 'random_strength': 9.9560750101214, 'border_count': 206}\n",
        "# Best recall score: 0.3838095238095238"
      ]
    },
    {
      "cell_type": "markdown",
      "metadata": {
        "id": "wbranbH2Bl-O"
      },
      "source": [
        "## Gradient Boost Decision Tree"
      ]
    },
    {
      "cell_type": "code",
      "execution_count": 37,
      "metadata": {
        "colab": {
          "background_save": true,
          "base_uri": "https://localhost:8080/"
        },
        "id": "ch98HvxfBsH3",
        "outputId": "c494cfb9-084f-44f2-e398-a40beab126cb"
      },
      "outputs": [
        {
          "name": "stderr",
          "output_type": "stream",
          "text": [
            "[I 2023-07-31 15:30:04,608] A new study created in memory with name: no-name-da1c2ed6-0d4c-498c-ac03-25e8c1de1e83\n",
            "[I 2023-07-31 15:30:37,170] Trial 0 finished with value: 0.16333333333333333 and parameters: {'n_estimators': 300, 'learning_rate': 0.029124047810446467, 'max_depth': 14, 'subsample': 0.7358285517133583, 'min_samples_split': 447, 'min_samples_leaf': 68}. Best is trial 0 with value: 0.16333333333333333.\n",
            "[I 2023-07-31 15:32:57,249] Trial 1 finished with value: 0.06666666666666667 and parameters: {'n_estimators': 1100, 'learning_rate': 0.012235370729698485, 'max_depth': 20, 'subsample': 0.7679866974094056, 'min_samples_split': 487, 'min_samples_leaf': 34}. Best is trial 0 with value: 0.16333333333333333.\n",
            "[I 2023-07-31 15:37:39,924] Trial 2 finished with value: 0.02857142857142857 and parameters: {'n_estimators': 1900, 'learning_rate': 0.026993032789327798, 'max_depth': 10, 'subsample': 0.7185044073210726, 'min_samples_split': 250, 'min_samples_leaf': 35}. Best is trial 0 with value: 0.16333333333333333.\n",
            "[I 2023-07-31 15:39:35,965] Trial 3 finished with value: 0.02857142857142857 and parameters: {'n_estimators': 500, 'learning_rate': 0.08170918756505788, 'max_depth': 17, 'subsample': 0.9306537041019071, 'min_samples_split': 441, 'min_samples_leaf': 1}. Best is trial 0 with value: 0.16333333333333333.\n",
            "[I 2023-07-31 15:40:13,922] Trial 4 finished with value: 0.048095238095238094 and parameters: {'n_estimators': 300, 'learning_rate': 0.09329752468512464, 'max_depth': 6, 'subsample': 0.7825769034289782, 'min_samples_split': 169, 'min_samples_leaf': 73}. Best is trial 0 with value: 0.16333333333333333.\n",
            "[I 2023-07-31 15:41:33,668] Trial 5 finished with value: 0.08666666666666666 and parameters: {'n_estimators': 1100, 'learning_rate': 0.029485974926637418, 'max_depth': 13, 'subsample': 0.5191665820770525, 'min_samples_split': 231, 'min_samples_leaf': 86}. Best is trial 0 with value: 0.16333333333333333.\n",
            "[I 2023-07-31 15:44:26,733] Trial 6 finished with value: 0.11523809523809522 and parameters: {'n_estimators': 1700, 'learning_rate': 0.015186222895157364, 'max_depth': 13, 'subsample': 0.6901638725484652, 'min_samples_split': 486, 'min_samples_leaf': 58}. Best is trial 0 with value: 0.16333333333333333.\n",
            "[I 2023-07-31 15:45:41,557] Trial 7 finished with value: 0.09619047619047619 and parameters: {'n_estimators': 1500, 'learning_rate': 0.06604528394605318, 'max_depth': 3, 'subsample': 0.5254569605661253, 'min_samples_split': 73, 'min_samples_leaf': 82}. Best is trial 0 with value: 0.16333333333333333.\n",
            "[I 2023-07-31 15:47:28,358] Trial 8 finished with value: 0.08666666666666666 and parameters: {'n_estimators': 900, 'learning_rate': 0.014249399266737281, 'max_depth': 6, 'subsample': 0.8237359362842374, 'min_samples_split': 478, 'min_samples_leaf': 44}. Best is trial 0 with value: 0.16333333333333333.\n",
            "[I 2023-07-31 15:49:02,820] Trial 9 finished with value: 0.047619047619047616 and parameters: {'n_estimators': 900, 'learning_rate': 0.035758538059757934, 'max_depth': 7, 'subsample': 0.6673247227866882, 'min_samples_split': 192, 'min_samples_leaf': 87}. Best is trial 0 with value: 0.16333333333333333.\n",
            "[I 2023-07-31 15:49:21,058] Trial 10 finished with value: 0.16285714285714287 and parameters: {'n_estimators': 100, 'learning_rate': 0.04910785756052703, 'max_depth': 16, 'subsample': 0.9385243273808136, 'min_samples_split': 350, 'min_samples_leaf': 61}. Best is trial 0 with value: 0.16333333333333333.\n",
            "[I 2023-07-31 15:49:40,212] Trial 11 finished with value: 0.16333333333333333 and parameters: {'n_estimators': 100, 'learning_rate': 0.04435999695429782, 'max_depth': 17, 'subsample': 0.9879401092777031, 'min_samples_split': 364, 'min_samples_leaf': 65}. Best is trial 0 with value: 0.16333333333333333.\n",
            "[I 2023-07-31 15:51:09,950] Trial 12 finished with value: 0.06714285714285714 and parameters: {'n_estimators': 500, 'learning_rate': 0.04495490542235995, 'max_depth': 17, 'subsample': 0.9980668645132178, 'min_samples_split': 362, 'min_samples_leaf': 100}. Best is trial 0 with value: 0.16333333333333333.\n",
            "[I 2023-07-31 15:51:25,178] Trial 13 finished with value: 0.15333333333333335 and parameters: {'n_estimators': 100, 'learning_rate': 0.05828528928478187, 'max_depth': 20, 'subsample': 0.8528732069611478, 'min_samples_split': 368, 'min_samples_leaf': 65}. Best is trial 0 with value: 0.16333333333333333.\n",
            "[I 2023-07-31 15:52:54,010] Trial 14 finished with value: 0.03809523809523809 and parameters: {'n_estimators': 500, 'learning_rate': 0.041307449322086874, 'max_depth': 15, 'subsample': 0.876830854625446, 'min_samples_split': 317, 'min_samples_leaf': 51}. Best is trial 0 with value: 0.16333333333333333.\n",
            "[I 2023-07-31 15:53:04,241] Trial 15 finished with value: 0.19190476190476188 and parameters: {'n_estimators': 100, 'learning_rate': 0.05743902681094832, 'max_depth': 10, 'subsample': 0.6339934395861413, 'min_samples_split': 412, 'min_samples_leaf': 14}. Best is trial 15 with value: 0.19190476190476188.\n",
            "[I 2023-07-31 15:54:27,033] Trial 16 finished with value: 0.05714285714285714 and parameters: {'n_estimators': 700, 'learning_rate': 0.06376947795643621, 'max_depth': 10, 'subsample': 0.6373468280398873, 'min_samples_split': 432, 'min_samples_leaf': 11}. Best is trial 15 with value: 0.19190476190476188.\n",
            "[I 2023-07-31 15:54:57,348] Trial 17 finished with value: 0.12476190476190477 and parameters: {'n_estimators': 300, 'learning_rate': 0.05494047607919665, 'max_depth': 9, 'subsample': 0.6185493077334742, 'min_samples_split': 420, 'min_samples_leaf': 20}. Best is trial 15 with value: 0.19190476190476188.\n",
            "[I 2023-07-31 15:58:18,965] Trial 18 finished with value: 0.03809523809523809 and parameters: {'n_estimators': 1300, 'learning_rate': 0.07227940976084309, 'max_depth': 13, 'subsample': 0.7380147336089994, 'min_samples_split': 311, 'min_samples_leaf': 23}. Best is trial 15 with value: 0.19190476190476188.\n",
            "[I 2023-07-31 15:59:45,369] Trial 19 finished with value: 0.03857142857142857 and parameters: {'n_estimators': 700, 'learning_rate': 0.05088131523288585, 'max_depth': 8, 'subsample': 0.5926898732520396, 'min_samples_split': 67, 'min_samples_leaf': 42}. Best is trial 15 with value: 0.19190476190476188.\n",
            "[I 2023-07-31 16:00:20,861] Trial 20 finished with value: 0.1333333333333333 and parameters: {'n_estimators': 300, 'learning_rate': 0.025088057383266277, 'max_depth': 11, 'subsample': 0.6969943673651813, 'min_samples_split': 405, 'min_samples_leaf': 24}. Best is trial 15 with value: 0.19190476190476188.\n",
            "[I 2023-07-31 16:00:34,867] Trial 21 finished with value: 0.13476190476190478 and parameters: {'n_estimators': 100, 'learning_rate': 0.04259860743501143, 'max_depth': 15, 'subsample': 0.7978986814750413, 'min_samples_split': 306, 'min_samples_leaf': 72}. Best is trial 15 with value: 0.19190476190476188.\n",
            "[I 2023-07-31 16:00:47,532] Trial 22 finished with value: 0.23047619047619045 and parameters: {'n_estimators': 100, 'learning_rate': 0.03573073295141904, 'max_depth': 18, 'subsample': 0.7471233414050278, 'min_samples_split': 385, 'min_samples_leaf': 54}. Best is trial 22 with value: 0.23047619047619045.\n",
            "[I 2023-07-31 16:01:25,117] Trial 23 finished with value: 0.10571428571428569 and parameters: {'n_estimators': 300, 'learning_rate': 0.030389482557039375, 'max_depth': 19, 'subsample': 0.7473364600827197, 'min_samples_split': 399, 'min_samples_leaf': 50}. Best is trial 22 with value: 0.23047619047619045.\n",
            "[I 2023-07-31 16:02:46,444] Trial 24 finished with value: 0.048095238095238094 and parameters: {'n_estimators': 700, 'learning_rate': 0.03466164563372916, 'max_depth': 12, 'subsample': 0.7301627398708174, 'min_samples_split': 442, 'min_samples_leaf': 54}. Best is trial 22 with value: 0.23047619047619045.\n",
            "[I 2023-07-31 16:02:57,205] Trial 25 finished with value: 0.26904761904761904 and parameters: {'n_estimators': 100, 'learning_rate': 0.024251317470461463, 'max_depth': 14, 'subsample': 0.6652825109611612, 'min_samples_split': 279, 'min_samples_leaf': 73}. Best is trial 25 with value: 0.26904761904761904.\n",
            "[I 2023-07-31 16:03:08,830] Trial 26 finished with value: 0.25 and parameters: {'n_estimators': 100, 'learning_rate': 0.0216260477967684, 'max_depth': 19, 'subsample': 0.6596312508266453, 'min_samples_split': 128, 'min_samples_leaf': 77}. Best is trial 25 with value: 0.26904761904761904.\n",
            "[I 2023-07-31 16:04:07,758] Trial 27 finished with value: 0.05714285714285714 and parameters: {'n_estimators': 500, 'learning_rate': 0.02299031959368731, 'max_depth': 18, 'subsample': 0.6649033581045543, 'min_samples_split': 114, 'min_samples_leaf': 79}. Best is trial 25 with value: 0.26904761904761904.\n",
            "[I 2023-07-31 16:04:16,509] Trial 28 finished with value: 0.28857142857142853 and parameters: {'n_estimators': 100, 'learning_rate': 0.02131054682263109, 'max_depth': 19, 'subsample': 0.5793402857038504, 'min_samples_split': 133, 'min_samples_leaf': 93}. Best is trial 28 with value: 0.28857142857142853.\n",
            "[I 2023-07-31 16:04:42,156] Trial 29 finished with value: 0.16333333333333333 and parameters: {'n_estimators': 300, 'learning_rate': 0.022151647147029305, 'max_depth': 15, 'subsample': 0.5793866986307327, 'min_samples_split': 127, 'min_samples_leaf': 98}. Best is trial 28 with value: 0.28857142857142853.\n"
          ]
        },
        {
          "name": "stdout",
          "output_type": "stream",
          "text": [
            "Best params: {'n_estimators': 100, 'learning_rate': 0.02131054682263109, 'max_depth': 19, 'subsample': 0.5793402857038504, 'min_samples_split': 133, 'min_samples_leaf': 93}\n",
            "Best recall score: 0.28857142857142853\n"
          ]
        }
      ],
      "source": [
        " # CatBoost 1\n",
        "def objective(trial):\n",
        "\n",
        "    params = {\n",
        "        'n_estimators': trial.suggest_int('n_estimators', 100, 2000, step=200),\n",
        "        'learning_rate': trial.suggest_float('learning_rate', 0.01, 0.1),\n",
        "        'max_depth': trial.suggest_int('max_depth', 3, 20),\n",
        "        'subsample': trial.suggest_float('subsample', 0.5, 1.0),\n",
        "        'min_samples_split':trial.suggest_int('min_samples_split', 10,500),\n",
        "        'min_samples_leaf':trial.suggest_int('min_samples_leaf', 1,100),\n",
        "        'random_state': 42,\n",
        "    }\n",
        "    model = GradientBoostingClassifier(**params)\n",
        "\n",
        "    # Perform k-fold cross-validation\n",
        "    skf = StratifiedKFold(n_splits=5, shuffle=True, random_state=42)\n",
        "    scores = []\n",
        "    for train_index, valid_index in skf.split(scaled_feature, df_label):\n",
        "        train_x = scaled_feature.iloc[train_index,:]\n",
        "        train_y = df_impute.iloc[train_index,:]['Pass/Fail']\n",
        "\n",
        "        valid_x = scaled_feature.iloc[valid_index,:]\n",
        "        valid_y = df_impute.iloc[valid_index,:]['Pass/Fail']\n",
        "\n",
        "        X_train_over, Y_train_over = BorderlineSMOTE(sampling_strategy=1).fit_resample(train_x, train_y)\n",
        "        model.fit(X_train_over, Y_train_over)\n",
        "\n",
        "        y_val_pred = model.predict(valid_x)\n",
        "        cm = confusion_matrix(valid_y, y_val_pred)\n",
        "        recall = cm[1][1] /(cm[1][1]+cm[1][0]) # recall\n",
        "        scores.append(recall)\n",
        "\n",
        "    avg_score = sum(scores) / len(scores)\n",
        "\n",
        "    return avg_score\n",
        "\n",
        "study = optuna.create_study(direction='maximize')\n",
        "study.optimize(objective, n_trials=30)\n",
        "\n",
        "best_params = study.best_params\n",
        "best_score = study.best_value\n",
        "\n",
        "print(\"Best params:\", best_params)\n",
        "print(\"Best recall score:\", best_score)\n",
        "\n",
        "# Best params: {'n_estimators': 100, 'learning_rate': 0.08842028276441474, 'depth': 10, 'subsample': 0.9595014977920548, 'min_samples_split': 800}\n",
        "# Best recall score: 0.48952380952380947"
      ]
    },
    {
      "cell_type": "markdown",
      "metadata": {
        "id": "SKMiLDo6opkN"
      },
      "source": [
        "### Logistic regression"
      ]
    },
    {
      "cell_type": "code",
      "execution_count": null,
      "metadata": {
        "colab": {
          "base_uri": "https://localhost:8080/"
        },
        "id": "Hg_Iuf08-J3S",
        "outputId": "e7d0b94b-0202-402e-9b21-97eb975a99b7"
      },
      "outputs": [
        {
          "name": "stderr",
          "output_type": "stream",
          "text": [
            "[I 2023-07-26 11:33:56,066] A new study created in memory with name: no-name-e9ab0ec0-ba32-4d96-9acd-5a25a9d7daf5\n",
            "[I 2023-07-26 11:33:57,123] Trial 0 finished with value: 0.42142857142857143 and parameters: {'C': 1279.7563606888536, 'max_iter': 994, 'class_weight': 'balanced', 'solver': 'newton-cg'}. Best is trial 0 with value: 0.42142857142857143.\n",
            "[I 2023-07-26 11:33:58,499] Trial 1 finished with value: 0.4309523809523809 and parameters: {'C': 996.0645107266349, 'max_iter': 510, 'class_weight': 'balanced', 'solver': 'newton-cg'}. Best is trial 1 with value: 0.4309523809523809.\n",
            "[I 2023-07-26 11:33:59,848] Trial 2 finished with value: 0.4314285714285714 and parameters: {'C': 729.603247387464, 'max_iter': 988, 'class_weight': 'balanced', 'solver': 'newton-cg'}. Best is trial 2 with value: 0.4314285714285714.\n",
            "[I 2023-07-26 11:34:01,021] Trial 3 finished with value: 0.4314285714285714 and parameters: {'C': 1521.3075374392633, 'max_iter': 735, 'class_weight': 'balanced', 'solver': 'liblinear'}. Best is trial 2 with value: 0.4314285714285714.\n",
            "[I 2023-07-26 11:34:01,956] Trial 4 finished with value: 0.4314285714285714 and parameters: {'C': 1646.7057409469112, 'max_iter': 888, 'class_weight': 'balanced', 'solver': 'sag'}. Best is trial 2 with value: 0.4314285714285714.\n",
            "[I 2023-07-26 11:34:03,115] Trial 5 finished with value: 0.4309523809523809 and parameters: {'C': 972.5673013098212, 'max_iter': 1294, 'class_weight': 'balanced', 'solver': 'lbfgs'}. Best is trial 2 with value: 0.4314285714285714.\n",
            "[I 2023-07-26 11:34:03,800] Trial 6 finished with value: 0.4514285714285714 and parameters: {'C': 1346.1084245166878, 'max_iter': 948, 'class_weight': 'balanced', 'solver': 'liblinear'}. Best is trial 6 with value: 0.4514285714285714.\n",
            "[I 2023-07-26 11:34:04,543] Trial 7 finished with value: 0.4314285714285714 and parameters: {'C': 1640.217494771476, 'max_iter': 1223, 'class_weight': 'balanced', 'solver': 'newton-cg'}. Best is trial 6 with value: 0.4514285714285714.\n",
            "[I 2023-07-26 11:34:05,723] Trial 8 finished with value: 0.440952380952381 and parameters: {'C': 1298.6001335805815, 'max_iter': 1003, 'class_weight': 'balanced', 'solver': 'lbfgs'}. Best is trial 6 with value: 0.4514285714285714.\n",
            "[I 2023-07-26 11:34:06,413] Trial 9 finished with value: 0.43095238095238103 and parameters: {'C': 1102.1736125229668, 'max_iter': 958, 'class_weight': 'balanced', 'solver': 'liblinear'}. Best is trial 6 with value: 0.4514285714285714.\n",
            "[I 2023-07-26 11:34:07,071] Trial 10 finished with value: 0.46047619047619043 and parameters: {'C': 1908.0733078524186, 'max_iter': 673, 'class_weight': 'balanced', 'solver': 'liblinear'}. Best is trial 10 with value: 0.46047619047619043.\n",
            "[I 2023-07-26 11:34:08,099] Trial 11 finished with value: 0.4314285714285714 and parameters: {'C': 1938.0468154141115, 'max_iter': 641, 'class_weight': 'balanced', 'solver': 'liblinear'}. Best is trial 10 with value: 0.46047619047619043.\n",
            "[I 2023-07-26 11:34:09,218] Trial 12 finished with value: 0.440952380952381 and parameters: {'C': 1972.9983566669448, 'max_iter': 1494, 'class_weight': 'balanced', 'solver': 'liblinear'}. Best is trial 10 with value: 0.46047619047619043.\n",
            "[I 2023-07-26 11:34:09,852] Trial 13 finished with value: 0.43095238095238103 and parameters: {'C': 546.5807495720405, 'max_iter': 773, 'class_weight': 'balanced', 'solver': 'liblinear'}. Best is trial 10 with value: 0.46047619047619043.\n",
            "[I 2023-07-26 11:34:11,758] Trial 14 finished with value: 0.4504761904761905 and parameters: {'C': 1456.7744927974404, 'max_iter': 1141, 'class_weight': 'balanced', 'solver': 'sag'}. Best is trial 10 with value: 0.46047619047619043.\n",
            "[I 2023-07-26 11:34:13,417] Trial 15 finished with value: 0.43095238095238103 and parameters: {'C': 1826.5618658445378, 'max_iter': 536, 'class_weight': 'balanced', 'solver': 'liblinear'}. Best is trial 10 with value: 0.46047619047619043.\n",
            "[I 2023-07-26 11:34:15,301] Trial 16 finished with value: 0.440952380952381 and parameters: {'C': 1849.396908227261, 'max_iter': 817, 'class_weight': 'balanced', 'solver': 'liblinear'}. Best is trial 10 with value: 0.46047619047619043.\n",
            "[I 2023-07-26 11:34:16,476] Trial 17 finished with value: 0.4514285714285714 and parameters: {'C': 1694.2892941933737, 'max_iter': 658, 'class_weight': 'balanced', 'solver': 'liblinear'}. Best is trial 10 with value: 0.46047619047619043.\n",
            "[I 2023-07-26 11:34:18,016] Trial 18 finished with value: 0.4504761904761905 and parameters: {'C': 1409.7791133208298, 'max_iter': 1106, 'class_weight': 'balanced', 'solver': 'sag'}. Best is trial 10 with value: 0.46047619047619043.\n",
            "[I 2023-07-26 11:34:19,281] Trial 19 finished with value: 0.4314285714285715 and parameters: {'C': 1788.7574768256723, 'max_iter': 629, 'class_weight': 'balanced', 'solver': 'lbfgs'}. Best is trial 10 with value: 0.46047619047619043.\n",
            "[I 2023-07-26 11:34:20,039] Trial 20 finished with value: 0.4309523809523809 and parameters: {'C': 1566.518003836333, 'max_iter': 858, 'class_weight': 'balanced', 'solver': 'liblinear'}. Best is trial 10 with value: 0.46047619047619043.\n",
            "[I 2023-07-26 11:34:20,736] Trial 21 finished with value: 0.4314285714285714 and parameters: {'C': 1723.4107185386126, 'max_iter': 679, 'class_weight': 'balanced', 'solver': 'liblinear'}. Best is trial 10 with value: 0.46047619047619043.\n",
            "[I 2023-07-26 11:34:21,495] Trial 22 finished with value: 0.440952380952381 and parameters: {'C': 1993.0977620192375, 'max_iter': 589, 'class_weight': 'balanced', 'solver': 'liblinear'}. Best is trial 10 with value: 0.46047619047619043.\n",
            "[I 2023-07-26 11:34:22,085] Trial 23 finished with value: 0.4595238095238095 and parameters: {'C': 1724.136763191575, 'max_iter': 699, 'class_weight': 'balanced', 'solver': 'liblinear'}. Best is trial 10 with value: 0.46047619047619043.\n",
            "[I 2023-07-26 11:34:22,749] Trial 24 finished with value: 0.4314285714285714 and parameters: {'C': 1847.4018568020438, 'max_iter': 800, 'class_weight': 'balanced', 'solver': 'liblinear'}. Best is trial 10 with value: 0.46047619047619043.\n",
            "[I 2023-07-26 11:34:23,761] Trial 25 finished with value: 0.4504761904761905 and parameters: {'C': 1599.8371294996828, 'max_iter': 907, 'class_weight': 'balanced', 'solver': 'liblinear'}. Best is trial 10 with value: 0.46047619047619043.\n",
            "[I 2023-07-26 11:34:24,682] Trial 26 finished with value: 0.4314285714285714 and parameters: {'C': 1411.621474432045, 'max_iter': 724, 'class_weight': 'balanced', 'solver': 'liblinear'}. Best is trial 10 with value: 0.46047619047619043.\n",
            "[I 2023-07-26 11:34:26,298] Trial 27 finished with value: 0.42095238095238097 and parameters: {'C': 1758.6284073435554, 'max_iter': 1079, 'class_weight': 'balanced', 'solver': 'sag'}. Best is trial 10 with value: 0.46047619047619043.\n",
            "[I 2023-07-26 11:34:28,701] Trial 28 finished with value: 0.4404761904761905 and parameters: {'C': 1519.2692597595792, 'max_iter': 723, 'class_weight': 'balanced', 'solver': 'lbfgs'}. Best is trial 10 with value: 0.46047619047619043.\n",
            "[I 2023-07-26 11:34:30,645] Trial 29 finished with value: 0.41142857142857137 and parameters: {'C': 1301.9834865221158, 'max_iter': 586, 'class_weight': 'balanced', 'solver': 'newton-cg'}. Best is trial 10 with value: 0.46047619047619043.\n",
            "[I 2023-07-26 11:34:31,610] Trial 30 finished with value: 0.48904761904761906 and parameters: {'C': 1744.1660621864212, 'max_iter': 1380, 'class_weight': 'balanced', 'solver': 'liblinear'}. Best is trial 30 with value: 0.48904761904761906.\n",
            "[I 2023-07-26 11:34:32,361] Trial 31 finished with value: 0.440952380952381 and parameters: {'C': 1691.6263752764216, 'max_iter': 1423, 'class_weight': 'balanced', 'solver': 'liblinear'}. Best is trial 30 with value: 0.48904761904761906.\n",
            "[I 2023-07-26 11:34:33,084] Trial 32 finished with value: 0.4314285714285714 and parameters: {'C': 1898.3028341207826, 'max_iter': 1312, 'class_weight': 'balanced', 'solver': 'liblinear'}. Best is trial 30 with value: 0.48904761904761906.\n",
            "[I 2023-07-26 11:34:34,411] Trial 33 finished with value: 0.4314285714285714 and parameters: {'C': 1762.7251136639682, 'max_iter': 1034, 'class_weight': 'balanced', 'solver': 'liblinear'}. Best is trial 30 with value: 0.48904761904761906.\n",
            "[I 2023-07-26 11:34:35,682] Trial 34 finished with value: 0.440952380952381 and parameters: {'C': 1934.2519756533534, 'max_iter': 1185, 'class_weight': 'balanced', 'solver': 'newton-cg'}. Best is trial 30 with value: 0.48904761904761906.\n",
            "[I 2023-07-26 11:34:36,386] Trial 35 finished with value: 0.44952380952380955 and parameters: {'C': 1631.3321791874544, 'max_iter': 956, 'class_weight': 'balanced', 'solver': 'liblinear'}. Best is trial 30 with value: 0.48904761904761906.\n",
            "[I 2023-07-26 11:34:37,207] Trial 36 finished with value: 0.45999999999999996 and parameters: {'C': 1852.8350855430779, 'max_iter': 532, 'class_weight': 'balanced', 'solver': 'liblinear'}. Best is trial 30 with value: 0.48904761904761906.\n",
            "[I 2023-07-26 11:34:38,152] Trial 37 finished with value: 0.47000000000000003 and parameters: {'C': 1867.197116041723, 'max_iter': 520, 'class_weight': 'balanced', 'solver': 'liblinear'}. Best is trial 30 with value: 0.48904761904761906.\n",
            "[I 2023-07-26 11:34:39,214] Trial 38 finished with value: 0.4404761904761905 and parameters: {'C': 1864.2466363466513, 'max_iter': 541, 'class_weight': 'balanced', 'solver': 'newton-cg'}. Best is trial 30 with value: 0.48904761904761906.\n",
            "[I 2023-07-26 11:34:40,252] Trial 39 finished with value: 0.4595238095238095 and parameters: {'C': 1999.1798123082915, 'max_iter': 585, 'class_weight': 'balanced', 'solver': 'lbfgs'}. Best is trial 30 with value: 0.48904761904761906.\n",
            "[I 2023-07-26 11:34:41,535] Trial 40 finished with value: 0.41238095238095235 and parameters: {'C': 1875.1708983915232, 'max_iter': 552, 'class_weight': 'balanced', 'solver': 'sag'}. Best is trial 30 with value: 0.48904761904761906.\n",
            "[I 2023-07-26 11:34:42,701] Trial 41 finished with value: 0.46047619047619054 and parameters: {'C': 1780.6498798530529, 'max_iter': 507, 'class_weight': 'balanced', 'solver': 'liblinear'}. Best is trial 30 with value: 0.48904761904761906.\n",
            "[I 2023-07-26 11:34:43,339] Trial 42 finished with value: 0.42142857142857143 and parameters: {'C': 1781.3101773940873, 'max_iter': 502, 'class_weight': 'balanced', 'solver': 'liblinear'}. Best is trial 30 with value: 0.48904761904761906.\n",
            "[I 2023-07-26 11:34:44,057] Trial 43 finished with value: 0.42142857142857143 and parameters: {'C': 1926.3442807746092, 'max_iter': 507, 'class_weight': 'balanced', 'solver': 'liblinear'}. Best is trial 30 with value: 0.48904761904761906.\n",
            "[I 2023-07-26 11:34:44,922] Trial 44 finished with value: 0.4504761904761905 and parameters: {'C': 1807.2949041845307, 'max_iter': 619, 'class_weight': 'balanced', 'solver': 'liblinear'}. Best is trial 30 with value: 0.48904761904761906.\n",
            "[I 2023-07-26 11:34:45,746] Trial 45 finished with value: 0.45095238095238094 and parameters: {'C': 1668.5077672462332, 'max_iter': 1330, 'class_weight': 'balanced', 'solver': 'liblinear'}. Best is trial 30 with value: 0.48904761904761906.\n",
            "[I 2023-07-26 11:34:46,170] Trial 46 finished with value: 0.4314285714285714 and parameters: {'C': 1926.6787223314318, 'max_iter': 564, 'class_weight': 'balanced', 'solver': 'liblinear'}. Best is trial 30 with value: 0.48904761904761906.\n",
            "[I 2023-07-26 11:34:46,523] Trial 47 finished with value: 0.4414285714285714 and parameters: {'C': 1826.0309480362494, 'max_iter': 501, 'class_weight': 'balanced', 'solver': 'liblinear'}. Best is trial 30 with value: 0.48904761904761906.\n",
            "[I 2023-07-26 11:34:47,075] Trial 48 finished with value: 0.43095238095238103 and parameters: {'C': 1559.917892607039, 'max_iter': 630, 'class_weight': 'balanced', 'solver': 'liblinear'}. Best is trial 30 with value: 0.48904761904761906.\n",
            "[I 2023-07-26 11:34:47,587] Trial 49 finished with value: 0.440952380952381 and parameters: {'C': 1658.6091126982074, 'max_iter': 1240, 'class_weight': 'balanced', 'solver': 'newton-cg'}. Best is trial 30 with value: 0.48904761904761906.\n"
          ]
        },
        {
          "name": "stdout",
          "output_type": "stream",
          "text": [
            "Best params: {'C': 1744.1660621864212, 'max_iter': 1380, 'class_weight': 'balanced', 'solver': 'liblinear'}\n",
            "Best recall score: 0.48904761904761906\n"
          ]
        }
      ],
      "source": [
        "# LR 1\n",
        "def objective(trial):\n",
        "\n",
        "    params = {\n",
        "        'C': trial.suggest_float('C', 500, 2000),\n",
        "        'max_iter': trial.suggest_int('max_iter', 500, 1500),\n",
        "        'class_weight': trial.suggest_categorical('class_weight', ['balanced']),\n",
        "        'solver': trial.suggest_categorical('solver', ['liblinear','sag','lbfgs','newton-cg']),\n",
        "    }\n",
        "\n",
        "    model = LogisticRegression(**params)\n",
        "\n",
        "    # Perform k-fold cross-validation\n",
        "    skf = StratifiedKFold(n_splits=5, shuffle=True, random_state=42)\n",
        "    scores = []\n",
        "    for train_index, valid_index in skf.split(scaled_feature, df_label):\n",
        "        train_x = scaled_feature.iloc[train_index,:]\n",
        "        train_y = df_impute.iloc[train_index,:]['Pass/Fail']\n",
        "\n",
        "        valid_x = scaled_feature.iloc[valid_index,:]\n",
        "        valid_y = df_impute.iloc[valid_index,:]['Pass/Fail']\n",
        "\n",
        "        X_train_over, Y_train_over = BorderlineSMOTE(sampling_strategy=1).fit_resample(train_x, train_y)\n",
        "        model.fit(X_train_over, Y_train_over)\n",
        "\n",
        "        y_val_pred = model.predict(valid_x)\n",
        "        cm = confusion_matrix(valid_y, y_val_pred)\n",
        "        recall = cm[1][1] /(cm[1][1]+cm[1][0]) # recall\n",
        "        scores.append(recall)\n",
        "\n",
        "    avg_score = sum(scores) / len(scores)\n",
        "\n",
        "    return avg_score\n",
        "\n",
        "study = optuna.create_study(direction='maximize')\n",
        "study.optimize(objective, n_trials=50)\n",
        "\n",
        "best_params = study.best_params\n",
        "best_score = study.best_value\n",
        "\n",
        "print(\"Best params:\", best_params)\n",
        "print(\"Best recall score:\", best_score)\n",
        "\n",
        "# Best params: {'C': 952.3036792683072, 'max_iter': 538, 'class_weight': 'balanced', 'solver': 'newton-cg'}\n",
        "# Best recall score: 0.4790476190476191"
      ]
    },
    {
      "cell_type": "markdown",
      "metadata": {
        "id": "U-7y6RH3opkP"
      },
      "source": [
        "### KNN"
      ]
    },
    {
      "cell_type": "code",
      "execution_count": null,
      "metadata": {
        "colab": {
          "base_uri": "https://localhost:8080/"
        },
        "id": "nVKa1_OdlP1s",
        "outputId": "e8eb1ba7-93bf-4893-ac86-fbd4d58b206f"
      },
      "outputs": [
        {
          "name": "stderr",
          "output_type": "stream",
          "text": [
            "[I 2023-07-30 19:53:09,667] A new study created in memory with name: no-name-7e04807c-c084-402a-85df-219a11eee6a1\n",
            "[I 2023-07-30 19:53:10,340] Trial 0 finished with value: 0.2820455424187542 and parameters: {'n_neighbors': 26, 'max_iter': 81, 'algorithm': 'brute', 'weights': 'uniform'}. Best is trial 0 with value: 0.2820455424187542.\n",
            "[I 2023-07-30 19:53:11,537] Trial 1 finished with value: 0.26099183980789975 and parameters: {'n_neighbors': 29, 'max_iter': 20, 'algorithm': 'ball_tree', 'weights': 'distance'}. Best is trial 0 with value: 0.2820455424187542.\n",
            "[I 2023-07-30 19:53:15,671] Trial 2 finished with value: 0.2973749007956696 and parameters: {'n_neighbors': 24, 'max_iter': 9, 'algorithm': 'kd_tree', 'weights': 'distance'}. Best is trial 2 with value: 0.2973749007956696.\n",
            "[I 2023-07-30 19:53:17,663] Trial 3 finished with value: 0.1767546447976232 and parameters: {'n_neighbors': 82, 'max_iter': 22, 'algorithm': 'brute', 'weights': 'distance'}. Best is trial 2 with value: 0.2973749007956696.\n",
            "[I 2023-07-30 19:53:18,527] Trial 4 finished with value: 0.20801570989601353 and parameters: {'n_neighbors': 60, 'max_iter': 99, 'algorithm': 'kd_tree', 'weights': 'uniform'}. Best is trial 2 with value: 0.2973749007956696.\n",
            "[I 2023-07-30 19:53:19,101] Trial 5 finished with value: 0.16398730184570928 and parameters: {'n_neighbors': 94, 'max_iter': 13, 'algorithm': 'ball_tree', 'weights': 'distance'}. Best is trial 2 with value: 0.2973749007956696.\n",
            "[I 2023-07-30 19:53:19,732] Trial 6 finished with value: 0.17164892859323172 and parameters: {'n_neighbors': 94, 'max_iter': 8, 'algorithm': 'ball_tree', 'weights': 'uniform'}. Best is trial 2 with value: 0.2973749007956696.\n",
            "[I 2023-07-30 19:53:19,948] Trial 7 finished with value: 0.3158808327058871 and parameters: {'n_neighbors': 19, 'max_iter': 44, 'algorithm': 'brute', 'weights': 'distance'}. Best is trial 7 with value: 0.3158808327058871.\n",
            "[I 2023-07-30 19:53:20,633] Trial 8 finished with value: 0.17164078875073768 and parameters: {'n_neighbors': 82, 'max_iter': 29, 'algorithm': 'kd_tree', 'weights': 'distance'}. Best is trial 7 with value: 0.3158808327058871.\n",
            "[I 2023-07-30 19:53:21,151] Trial 9 finished with value: 0.23291345312468206 and parameters: {'n_neighbors': 42, 'max_iter': 46, 'algorithm': 'ball_tree', 'weights': 'uniform'}. Best is trial 7 with value: 0.3158808327058871.\n",
            "[I 2023-07-30 19:53:21,364] Trial 10 finished with value: 0.44669624142772835 and parameters: {'n_neighbors': 7, 'max_iter': 60, 'algorithm': 'brute', 'weights': 'distance'}. Best is trial 10 with value: 0.44669624142772835.\n",
            "[I 2023-07-30 19:53:21,581] Trial 11 finished with value: 0.48053153171486135 and parameters: {'n_neighbors': 5, 'max_iter': 60, 'algorithm': 'brute', 'weights': 'distance'}. Best is trial 11 with value: 0.48053153171486135.\n",
            "[I 2023-07-30 19:53:21,813] Trial 12 finished with value: 0.5558250747848029 and parameters: {'n_neighbors': 4, 'max_iter': 67, 'algorithm': 'brute', 'weights': 'distance'}. Best is trial 12 with value: 0.5558250747848029.\n",
            "[I 2023-07-30 19:53:22,040] Trial 13 finished with value: 0.47987423943346696 and parameters: {'n_neighbors': 5, 'max_iter': 65, 'algorithm': 'brute', 'weights': 'distance'}. Best is trial 12 with value: 0.5558250747848029.\n",
            "[I 2023-07-30 19:53:22,251] Trial 14 finished with value: 0.6464439063104128 and parameters: {'n_neighbors': 2, 'max_iter': 75, 'algorithm': 'brute', 'weights': 'distance'}. Best is trial 14 with value: 0.6464439063104128.\n",
            "[I 2023-07-30 19:53:22,497] Trial 15 finished with value: 0.21312142610040494 and parameters: {'n_neighbors': 50, 'max_iter': 78, 'algorithm': 'brute', 'weights': 'distance'}. Best is trial 14 with value: 0.6464439063104128.\n",
            "[I 2023-07-30 19:53:22,739] Trial 16 finished with value: 0.23099245029608678 and parameters: {'n_neighbors': 39, 'max_iter': 78, 'algorithm': 'brute', 'weights': 'distance'}. Best is trial 14 with value: 0.6464439063104128.\n",
            "[I 2023-07-30 19:53:22,965] Trial 17 finished with value: 0.37330538654077045 and parameters: {'n_neighbors': 14, 'max_iter': 93, 'algorithm': 'brute', 'weights': 'distance'}. Best is trial 14 with value: 0.6464439063104128.\n",
            "[I 2023-07-30 19:53:23,282] Trial 18 finished with value: 0.20419405384505812 and parameters: {'n_neighbors': 62, 'max_iter': 69, 'algorithm': 'brute', 'weights': 'uniform'}. Best is trial 14 with value: 0.6464439063104128.\n",
            "[I 2023-07-30 19:53:23,885] Trial 19 finished with value: 0.23163346289249304 and parameters: {'n_neighbors': 35, 'max_iter': 39, 'algorithm': 'kd_tree', 'weights': 'distance'}. Best is trial 14 with value: 0.6464439063104128.\n",
            "[I 2023-07-30 19:53:25,003] Trial 20 finished with value: 0.6438900307279053 and parameters: {'n_neighbors': 2, 'max_iter': 90, 'algorithm': 'brute', 'weights': 'distance'}. Best is trial 14 with value: 0.6464439063104128.\n",
            "[I 2023-07-30 19:53:25,422] Trial 21 finished with value: 0.37522231944811874 and parameters: {'n_neighbors': 14, 'max_iter': 84, 'algorithm': 'brute', 'weights': 'distance'}. Best is trial 14 with value: 0.6464439063104128.\n",
            "[I 2023-07-30 19:53:25,990] Trial 22 finished with value: 0.6515475875541807 and parameters: {'n_neighbors': 2, 'max_iter': 88, 'algorithm': 'brute', 'weights': 'distance'}. Best is trial 22 with value: 0.6515475875541807.\n",
            "[I 2023-07-30 19:53:26,804] Trial 23 finished with value: 0.3822327587961173 and parameters: {'n_neighbors': 14, 'max_iter': 90, 'algorithm': 'brute', 'weights': 'distance'}. Best is trial 22 with value: 0.6515475875541807.\n",
            "[I 2023-07-30 19:53:27,426] Trial 24 finished with value: 0.6483588042571375 and parameters: {'n_neighbors': 2, 'max_iter': 98, 'algorithm': 'brute', 'weights': 'distance'}. Best is trial 22 with value: 0.6515475875541807.\n",
            "[I 2023-07-30 19:53:27,998] Trial 25 finished with value: 0.3860645896501903 and parameters: {'n_neighbors': 14, 'max_iter': 96, 'algorithm': 'brute', 'weights': 'distance'}. Best is trial 22 with value: 0.6515475875541807.\n",
            "[I 2023-07-30 19:53:30,358] Trial 26 finished with value: 0.2973708308744226 and parameters: {'n_neighbors': 21, 'max_iter': 73, 'algorithm': 'brute', 'weights': 'uniform'}. Best is trial 22 with value: 0.6515475875541807.\n",
            "[I 2023-07-30 19:53:32,703] Trial 27 finished with value: 0.2654504385340144 and parameters: {'n_neighbors': 30, 'max_iter': 87, 'algorithm': 'brute', 'weights': 'distance'}. Best is trial 22 with value: 0.6515475875541807.\n",
            "[I 2023-07-30 19:53:33,254] Trial 28 finished with value: 0.4294641948678294 and parameters: {'n_neighbors': 10, 'max_iter': 100, 'algorithm': 'kd_tree', 'weights': 'distance'}. Best is trial 22 with value: 0.6515475875541807.\n",
            "[I 2023-07-30 19:53:34,829] Trial 29 finished with value: 0.31589100750900473 and parameters: {'n_neighbors': 19, 'max_iter': 81, 'algorithm': 'ball_tree', 'weights': 'uniform'}. Best is trial 22 with value: 0.6515475875541807.\n",
            "[I 2023-07-30 19:53:35,068] Trial 30 finished with value: 0.2622657251582182 and parameters: {'n_neighbors': 27, 'max_iter': 75, 'algorithm': 'brute', 'weights': 'distance'}. Best is trial 22 with value: 0.6515475875541807.\n",
            "[I 2023-07-30 19:53:35,278] Trial 31 finished with value: 0.554541014631367 and parameters: {'n_neighbors': 4, 'max_iter': 90, 'algorithm': 'brute', 'weights': 'distance'}. Best is trial 22 with value: 0.6515475875541807.\n",
            "[I 2023-07-30 19:53:35,487] Trial 32 finished with value: 0.6509147148002685 and parameters: {'n_neighbors': 2, 'max_iter': 84, 'algorithm': 'brute', 'weights': 'distance'}. Best is trial 22 with value: 0.6515475875541807.\n",
            "[I 2023-07-30 19:53:35,717] Trial 33 finished with value: 0.3777619503062616 and parameters: {'n_neighbors': 11, 'max_iter': 85, 'algorithm': 'brute', 'weights': 'distance'}. Best is trial 22 with value: 0.6515475875541807.\n",
            "[I 2023-07-30 19:53:35,931] Trial 34 finished with value: 0.6528275777863699 and parameters: {'n_neighbors': 2, 'max_iter': 94, 'algorithm': 'brute', 'weights': 'distance'}. Best is trial 34 with value: 0.6528275777863699.\n",
            "[I 2023-07-30 19:53:36,152] Trial 35 finished with value: 0.3018253596792902 and parameters: {'n_neighbors': 22, 'max_iter': 95, 'algorithm': 'brute', 'weights': 'distance'}. Best is trial 34 with value: 0.6528275777863699.\n",
            "[I 2023-07-30 19:53:36,614] Trial 36 finished with value: 0.4313587432083189 and parameters: {'n_neighbors': 10, 'max_iter': 100, 'algorithm': 'ball_tree', 'weights': 'distance'}. Best is trial 34 with value: 0.6528275777863699.\n",
            "[I 2023-07-30 19:53:37,138] Trial 37 finished with value: 0.2003581530697381 and parameters: {'n_neighbors': 64, 'max_iter': 83, 'algorithm': 'kd_tree', 'weights': 'distance'}. Best is trial 34 with value: 0.6528275777863699.\n",
            "[I 2023-07-30 19:53:37,408] Trial 38 finished with value: 0.26035489713274046 and parameters: {'n_neighbors': 32, 'max_iter': 95, 'algorithm': 'brute', 'weights': 'uniform'}. Best is trial 34 with value: 0.6528275777863699.\n",
            "[I 2023-07-30 19:53:37,893] Trial 39 finished with value: 0.32609023015404653 and parameters: {'n_neighbors': 17, 'max_iter': 88, 'algorithm': 'ball_tree', 'weights': 'distance'}. Best is trial 34 with value: 0.6528275777863699.\n",
            "[I 2023-07-30 19:53:38,151] Trial 40 finished with value: 0.18887283531063673 and parameters: {'n_neighbors': 68, 'max_iter': 93, 'algorithm': 'brute', 'weights': 'distance'}. Best is trial 34 with value: 0.6528275777863699.\n",
            "[I 2023-07-30 19:53:38,368] Trial 41 finished with value: 0.4530534584155796 and parameters: {'n_neighbors': 8, 'max_iter': 73, 'algorithm': 'brute', 'weights': 'distance'}. Best is trial 34 with value: 0.6528275777863699.\n",
            "[I 2023-07-30 19:53:38,582] Trial 42 finished with value: 0.6496428644105736 and parameters: {'n_neighbors': 2, 'max_iter': 80, 'algorithm': 'brute', 'weights': 'distance'}. Best is trial 34 with value: 0.6528275777863699.\n",
            "[I 2023-07-30 19:53:38,831] Trial 43 finished with value: 0.29865082110661156 and parameters: {'n_neighbors': 24, 'max_iter': 82, 'algorithm': 'brute', 'weights': 'distance'}. Best is trial 34 with value: 0.6528275777863699.\n",
            "[I 2023-07-30 19:53:39,054] Trial 44 finished with value: 0.4013837732239881 and parameters: {'n_neighbors': 9, 'max_iter': 53, 'algorithm': 'brute', 'weights': 'distance'}. Best is trial 34 with value: 0.6528275777863699.\n",
            "[I 2023-07-30 19:53:39,540] Trial 45 finished with value: 0.6477259315032254 and parameters: {'n_neighbors': 2, 'max_iter': 97, 'algorithm': 'kd_tree', 'weights': 'distance'}. Best is trial 34 with value: 0.6528275777863699.\n",
            "[I 2023-07-30 19:53:39,861] Trial 46 finished with value: 0.192069758450174 and parameters: {'n_neighbors': 76, 'max_iter': 62, 'algorithm': 'brute', 'weights': 'uniform'}. Best is trial 34 with value: 0.6528275777863699.\n",
            "[I 2023-07-30 19:53:40,147] Trial 47 finished with value: 0.1659001648318105 and parameters: {'n_neighbors': 98, 'max_iter': 91, 'algorithm': 'brute', 'weights': 'distance'}. Best is trial 34 with value: 0.6528275777863699.\n",
            "[I 2023-07-30 19:53:40,616] Trial 48 finished with value: 0.2086465476893022 and parameters: {'n_neighbors': 52, 'max_iter': 79, 'algorithm': 'ball_tree', 'weights': 'distance'}. Best is trial 34 with value: 0.6528275777863699.\n",
            "[I 2023-07-30 19:53:40,852] Trial 49 finished with value: 0.4422233979772492 and parameters: {'n_neighbors': 7, 'max_iter': 28, 'algorithm': 'brute', 'weights': 'distance'}. Best is trial 34 with value: 0.6528275777863699.\n"
          ]
        },
        {
          "name": "stdout",
          "output_type": "stream",
          "text": [
            "Best params: {'n_neighbors': 2, 'max_iter': 94, 'algorithm': 'brute', 'weights': 'distance'}\n",
            "Best acc score: 0.6528275777863699\n"
          ]
        }
      ],
      "source": [
        "# KNN 1\n",
        "def objective(trial):\n",
        "    params = {\n",
        "        'n_neighbors': trial.suggest_int('n_neighbors', 2,100),\n",
        "        'leaf_size': trial.suggest_int('max_iter', 5, 100),\n",
        "        'algorithm': trial.suggest_categorical('algorithm', ['ball_tree','kd_tree','brute'] ),\n",
        "        'weights' : trial.suggest_categorical('weights',['uniform', 'distance']),\n",
        "    }\n",
        "\n",
        "    model = KNeighborsClassifier(**params)\n",
        "\n",
        "    # Perform k-fold cross-validation\n",
        "    skf = StratifiedKFold(n_splits=5, shuffle=True, random_state=42)\n",
        "    scores = []\n",
        "    for train_index, valid_index in skf.split(scaled_feature, df_label):\n",
        "        train_x = scaled_feature.iloc[train_index,:]\n",
        "        train_y = df_impute.iloc[train_index,:]['Pass/Fail']\n",
        "\n",
        "        valid_x = scaled_feature.iloc[valid_index,:]\n",
        "        valid_y = df_impute.iloc[valid_index,:]['Pass/Fail']\n",
        "\n",
        "        X_train_over, Y_train_over = BorderlineSMOTE(sampling_strategy=1).fit_resample(train_x, train_y)\n",
        "        model.fit(X_train_over, Y_train_over)\n",
        "\n",
        "        y_val_pred = model.predict(valid_x)\n",
        "        acc = accuracy_score(valid_y, y_val_pred)\n",
        "        scores.append(acc)\n",
        "\n",
        "    avg_score = sum(scores) / len(scores)\n",
        "\n",
        "    return avg_score\n",
        "\n",
        "study = optuna.create_study(direction='maximize')\n",
        "study.optimize(objective, n_trials=50)\n",
        "\n",
        "best_params = study.best_params\n",
        "best_score = study.best_value\n",
        "\n",
        "print(\"Best params:\", best_params)\n",
        "print(\"Best acc score:\", best_score)\n",
        "\n",
        "# Best params: {'n_neighbors': 2, 'max_iter': 94, 'algorithm': 'brute', 'weights': 'distance'}\n",
        "# Best acc score: 0.6528275777863699"
      ]
    },
    {
      "cell_type": "markdown",
      "metadata": {
        "id": "WIYnca-9ZDDs"
      },
      "source": [
        "## Ensemble Voting"
      ]
    },
    {
      "cell_type": "code",
      "execution_count": 47,
      "metadata": {
        "colab": {
          "base_uri": "https://localhost:8080/",
          "height": 491
        },
        "id": "yMRN-jWAr15y",
        "outputId": "4e8001c8-a261-4872-8a83-eb731bbfa252"
      },
      "outputs": [
        {
          "name": "stdout",
          "output_type": "stream",
          "text": [
            "Testing data soft vote result : \n"
          ]
        },
        {
          "data": {
            "image/png": "[encoded data removed]",
            "text/plain": [
              "<Figure size 150x150 with 1 Axes>"
            ]
          },
          "metadata": {},
          "output_type": "display_data"
        },
        {
          "name": "stdout",
          "output_type": "stream",
          "text": [
            "None\n",
            "Accuracy = 0.803 |Sensitivity(recall) = 0.524 |Specificity = 0.823 |G-mean = 0.657 |MCC = 0.216\n",
            "Testing data hard vote result : \n"
          ]
        },
        {
          "data": {
            "image/png": "[encoded data removed]",
            "text/plain": [
              "<Figure size 150x150 with 1 Axes>"
            ]
          },
          "metadata": {},
          "output_type": "display_data"
        },
        {
          "name": "stdout",
          "output_type": "stream",
          "text": [
            "None\n",
            "Accuracy = 0.85 |Sensitivity(recall) = 0.429 |Specificity = 0.881 |G-mean = 0.615 |MCC = 0.222\n"
          ]
        }
      ],
      "source": [
        "LR = LogisticRegression(C=1744.1660621864212, max_iter= 1380, class_weight='balanced',solver='liblinear')\n",
        "\n",
        "GBDT = GradientBoostingClassifier(n_estimators=100, learning_rate= 0.02131054682263109, max_depth=19,\n",
        "                  subsample=0.5793402857038504, min_samples_split=133,min_samples_leaf=93,random_state=42)\n",
        "\n",
        "KNN = KNeighborsClassifier(n_neighbors= 2, leaf_size=94, algorithm= 'brute', weights= 'distance')\n",
        "\n",
        "Catboost = CatBoostClassifier( logging_level='Silent',iterations=500,learning_rate=0.01027086631849947,depth=3,l2_leaf_reg=7.727513266068814,\n",
        "            bagging_temperature= 3.4323289112268,random_strength=9.9560750101214,border_count=206, auto_class_weights='Balanced',random_state=42)\n",
        "\n",
        "Xgboost = XGBClassifier(n_estimators = 100,learning_rate=0.028038473312228238,alpha=6.079355189865556,subsample=0.917011600695461\n",
        "            ,colsample_bytree=0.5493794416359443,max_depth=3,min_child_weight=2,eta=0.6792449471806923,gamma=0.2818459866718011,random_state=42)\n",
        "\n",
        "soft_vote = VotingClassifier(estimators=[('lr', LR),  ('gbdt', GBDT),('knn',KNN),('cat',Catboost),('xgb',Xgboost)], voting='soft')\n",
        "hard_vote = VotingClassifier(estimators=[('lr', LR),  ('gbdt', GBDT),('knn',KNN),('cat',Catboost),('xgb',Xgboost)], voting='hard')\n",
        "\n",
        "predictions = soft_vote.fit(X_train_over,Y_train_over).predict(X_test)\n",
        "print('Testing data soft vote result : ')\n",
        "_,_,_,_,_,_ = Metric(y_test, predictions)\n",
        "\n",
        "predictions = hard_vote.fit(X_train_over, Y_train_over).predict(X_test)\n",
        "print('Testing data hard vote result : ')\n",
        "_,_,_,_,_,_ = Metric(y_test, predictions)"
      ]
    },
    {
      "cell_type": "code",
      "execution_count": 39,
      "metadata": {
        "id": "BxiZBdR_QPaT"
      },
      "outputs": [],
      "source": [
        "data = np.random.randint(1, 100, size=(7, 7))\n",
        "result_df = pd.DataFrame(data,columns=['Model','Recall','Specificity','G-means','MCC','Accuracy','AUC'])\n",
        "result_df['Model'] = ['LR','KNN','GBDT','Catboost','XGBoost','Soft Voting Classifier','Hard Voting Classifier']"
      ]
    },
    {
      "cell_type": "code",
      "execution_count": 43,
      "metadata": {
        "colab": {
          "base_uri": "https://localhost:8080/"
        },
        "id": "6vKqwXITzaMs",
        "outputId": "cae734ea-afb7-41a8-d200-147b89be6c14"
      },
      "outputs": [
        {
          "name": "stdout",
          "output_type": "stream",
          "text": [
            "=================== LR ===================\n",
            "Sensitivity(Recall) = 0.462 | Specificity = 0.754 | G-means = 0.587 | MCC = 0.123 | accuracy = 0.735 | auc = 0.608\n",
            "=================== KNN ===================\n",
            "Sensitivity(Recall) = 0.442 | Specificity = 0.655 | G-means = 0.531 | MCC = 0.05 | accuracy = 0.641 | auc = 0.548\n",
            "=================== GBDT ===================\n",
            "Sensitivity(Recall) = 0.28 | Specificity = 0.879 | G-means = 0.484 | MCC = 0.118 | accuracy = 0.839 | auc = 0.58\n",
            "=================== Catboost ===================\n",
            "Sensitivity(Recall) = 0.338 | Specificity = 0.859 | G-means = 0.536 | MCC = 0.137 | accuracy = 0.825 | auc = 0.598\n",
            "=================== XGBoost ===================\n",
            "Sensitivity(Recall) = 0.482 | Specificity = 0.843 | G-means = 0.635 | MCC = 0.214 | accuracy = 0.819 | auc = 0.663\n",
            "=================== Soft Voting Classifier ===================\n",
            "Sensitivity(Recall) = 0.414 | Specificity = 0.815 | G-means = 0.578 | MCC = 0.143 | accuracy = 0.788 | auc = 0.614\n",
            "=================== Hard Voting Classifier ===================\n",
            "Sensitivity(Recall) = 0.289 | Specificity = 0.887 | G-means = 0.495 | MCC = 0.134 | accuracy = 0.847 | auc = 0.588\n"
          ]
        }
      ],
      "source": [
        "LR = LogisticRegression(C=1744.1660621864212, max_iter= 1380, class_weight='balanced',solver='liblinear')\n",
        "\n",
        "GBDT = GradientBoostingClassifier(n_estimators=100, learning_rate= 0.02131054682263109, max_depth=19,\n",
        "                  subsample=0.5793402857038504, min_samples_split=133,min_samples_leaf=93,random_state=42)\n",
        "\n",
        "KNN = KNeighborsClassifier(n_neighbors= 2, leaf_size=94, algorithm= 'brute', weights= 'distance')\n",
        "\n",
        "Catboost = CatBoostClassifier( logging_level='Silent',iterations=500,learning_rate=0.01027086631849947,depth=3,l2_leaf_reg=7.727513266068814,\n",
        "            bagging_temperature= 3.4323289112268,random_strength=9.9560750101214,border_count=206, auto_class_weights='Balanced',random_state=42)\n",
        "\n",
        "Xgboost = XGBClassifier(n_estimators = 100,learning_rate=0.028038473312228238,alpha=6.079355189865556,subsample=0.917011600695461\n",
        "            ,colsample_bytree=0.5493794416359443,max_depth=3,min_child_weight=2,eta=0.6792449471806923,gamma=0.2818459866718011,random_state=42)\n",
        "\n",
        "soft_vote = VotingClassifier(estimators=[('lr', LR), ('lr2', LR), ('gbdt', GBDT),('knn',KNN),('cat',Catboost),('xgb',Xgboost)], voting='soft')\n",
        "hard_vote = VotingClassifier(estimators=[('lr', LR), ('lr2', LR), ('gbdt', GBDT),('knn',KNN),('cat',Catboost),('xgb',Xgboost)], voting='hard')\n",
        "\n",
        "models = [LR,KNN,GBDT,Catboost,Xgboost,soft_vote,hard_vote]\n",
        "\n",
        "model_name = ['LR','KNN','GBDT','Catboost','XGBoost','Soft Voting Classifier','Hard Voting Classifier']\n",
        "i = 0\n",
        "for classifier in models:\n",
        "  print('===================',model_name[i],'===================')\n",
        "  result_df.iloc[i,1:] = cv_model(model = classifier , random_state=12)\n",
        "  i += 1"
      ]
    },
    {
      "cell_type": "code",
      "execution_count": 49,
      "metadata": {
        "colab": {
          "base_uri": "https://localhost:8080/",
          "height": 268
        },
        "id": "srG7SRXLPrgg",
        "outputId": "c9be1037-8a73-45c6-a109-e20925d85df5"
      },
      "outputs": [],
      "source": [
        "result_df.to_csv(\"result.csv\")"
      ]
    },
    {
      "cell_type": "markdown",
      "metadata": {
        "id": "mcA6qiGbvBVO"
      },
      "source": [
        "## Results\n",
        "* Through the oversampling method(SMOTE), we can solve the problem of training data set  is imbalance.\n",
        "* Accuracy is not an appropriate metric when evaluating imbalanced datasets.\n",
        "* Compared with other models, rotation forest is the most effective model to solve this imbalanced  secom dataset."
      ]
    },
    {
      "attachments": {
        "image.png": {
          "image/png": "[encoded data removed]"
        }
      },
      "cell_type": "markdown",
      "metadata": {},
      "source": [
        "![image.png](attachment:image.png)"
      ]
    }
  ],
  "metadata": {
    "colab": {
      "provenance": []
    },
    "kernelspec": {
      "display_name": "Python 3.9.7 ('base')",
      "language": "python",
      "name": "python3"
    },
    "language_info": {
      "codemirror_mode": {
        "name": "ipython",
        "version": 3
      },
      "file_extension": ".py",
      "mimetype": "text/x-python",
      "name": "python",
      "nbconvert_exporter": "python",
      "pygments_lexer": "ipython3",
      "version": "3.7.16"
    },
    "vscode": {
      "interpreter": {
        "hash": "1db13ed87bb8965e4f3a2d3f13e8dfe37cf8727ab6c757d84791f40d0f5929ff"
      }
    }
  },
  "nbformat": 4,
  "nbformat_minor": 0
}
